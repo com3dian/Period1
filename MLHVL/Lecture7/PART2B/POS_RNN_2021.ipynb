{
 "cells": [
  {
   "cell_type": "markdown",
   "metadata": {},
   "source": [
    "# Sequence Processing with Recurrent Neural Networks\n",
    "\n",
    "So far, we have seen how word vectors can be constructed from corpus statistics, and how they can be utilized to infer latent semantic content either in isolation (e.g. genders from names) or in relation to one another (e.g. similarities and analogies). \n",
    "\n",
    "For tasks involving larger linguistic units such as phrases, sentences and dialogues, we need machinery capable of processing _sequences_ or _structures_ of words.\n",
    "\n",
    "Recurrent Neural Networks are an example of such machinery; for this assignment, you will construct a recurrent neural network that annotates each word of a sentence with a linguistically informative marker. In the simple case (and in this assignment), these markers will be POS tags. However, they can also be other kinds of tags, e.g. more fine-grained morphosyntactic [categories](https://en.wikipedia.org/wiki/Combinatory_categorial_grammar) (supertags).\n",
    "\n",
    "This task is a case of sequence labeling.  A good reference point is Jurafsky and Martin [Chapter 9](https://web.stanford.edu/~jurafsky/slp3/9.pdf). For a fuller view of the picture, a good reference point is Alex Graves' [dissertation](https://www.cs.toronto.edu/~graves/preprint.pdf).\n",
    "\n",
    "We will take a gradual approach, first inspecting recurrent neural networks, then moving on to data processing using high-grade word vectors before finally moving to the problem at hand. \n",
    "\n",
    "**-------------------------------------------------------------------------------------------------------------**\n",
    "\n",
    "There are 9 tasks in this assignment for a total of 15 points; tasks 1-2 and 6-9 are worth 2 points each, tasks 3-5 are worth 1 point each.\n",
    "\n",
    "Make sure to <ins>show the code to your teacher after completing every task</ins>. Don't forget to add comments to your code and self-check frequently by printing data samples, data shapes, etc."
   ]
  },
  {
   "cell_type": "markdown",
   "metadata": {},
   "source": [
    "---"
   ]
  },
  {
   "cell_type": "markdown",
   "metadata": {},
   "source": [
    "## Recurrent Neural Networks\n",
    "Recurrent Neural Networks are a particularly interesting class of neural networks. Unlike standard fully-connected networks that accept a fixed-size input and produce a fixed-size output over a predefined number of computational steps (i.e. network layers), RNNs instead operate on sequences of vectors. \n",
    "\n",
    "Computationally, feedforward networks may be seen as a trainable (but parametrically fixed) function, whereas RNNs act as continuous, stateful programs operating on sequences of inputs. \n",
    "Cognitively, this may be viewed as enhancing our system's perceptive and computational abilities with a notion of memory.\n",
    "In the general case, this statefulness is captured by an intermediate hidden vector which is adjusted throughout the computation, affected by both the immediately previous version of itself __and__ the current input.\n",
    "\n",
    "RNNs are nowadays established as the core machinery of neural sequence processing. \n",
    "\n",
    "A simple recurrent network (SRN or Elman network) is described by the equations:\n",
    "* $h_t = \\theta_h (W_h x_t + U_h h_{t-1} + b_h ) $\n",
    "* $y_t = \\theta_y (W_y h_t + b_y) $\n",
    "\n",
    "where (at timestep $t$) $x_t$, $h_t$, $y_t$ are the network's input, hidden and output representations respectively, $\\theta_h$, $\\theta_y$ are its hidden and output activation functions, and $W_h$, $U_h$, $b_h$, $W_y$, $b_y$ are the parametric tensors to be learned."
   ]
  },
  {
   "cell_type": "code",
   "execution_count": 1,
   "metadata": {},
   "outputs": [],
   "source": [
    "import numpy as np\n",
    "import torch\n",
    "from torch import FloatTensor, LongTensor\n",
    "from typing import Tuple, List, Callable, Optional"
   ]
  },
  {
   "cell_type": "markdown",
   "metadata": {},
   "source": [
    "### Task 1 (2 points): Our own SRN\n",
    "Let's make our own simple recurrent network from scratch, to get an idea of its inner workings. To make our life just a bit simpler, we will use `torch.nn.Linear` to model the internal transformations.\n",
    "\n",
    "Complete the `mySRN` class, which is initialized with the input $d_i$, hidden $d_h$ and output $d_o$ dimensionalities, as well as two non-linear functions $\\theta_h$ and $\\theta_y$, and constructs an SRN implementing three `torch.nn.Linear` layers:\n",
    "1. `x_to_h`: a layer that takes $x_t$ and produces $W_h x_t$\n",
    "2. `h_to_h`: a layer that takes $h_{t-1}$ and produces $U_h h_{t-1} + b_h$\n",
    "3. `h_to_y`: a layer that takes $h_t$ and produces $W_y h_t + b_y$\n",
    "\n",
    "Implement the function `step` that performs a computational step, accepting $x_t$ and $h_{t-1}$ and producing $h_t$ and $y_t$.\n",
    "\n",
    "Implement the function `forward` that accepts a List of inputs $X$, an initial hidden vector $h_{-1}$ and iteratively applies `step` until the input sequence is exhausted, returning a List of outputs $Y$ (of the same length as $X$).\n",
    "\n",
    "_Hint_: Note that `x_to_h` does not have a bias term $b$, since we will incorporate it into `h_to_h`"
   ]
  },
  {
   "cell_type": "code",
   "execution_count": 330,
   "metadata": {},
   "outputs": [],
   "source": [
    "class mySRN(torch.nn.Module):\n",
    "    def __init__(\n",
    "        self, \n",
    "        input_dim: int, \n",
    "        hidden_dim: int, \n",
    "        output_dim: int, \n",
    "        hidden_activation: Callable[[FloatTensor], FloatTensor],\n",
    "        output_activation: Callable[[FloatTensor], FloatTensor],\n",
    "        device: str\n",
    "    ) -> None:\n",
    "        super(mySRN, self).__init__()\n",
    "        self.hidden_activation = hidden_activation\n",
    "        self.output_activation = output_activation\n",
    "        self.device = device\n",
    "        #\n",
    "        self.x_to_h = torch.nn.Linear(input_dim, hidden_dim, bias = False)\n",
    "        self.h_to_h = torch.nn.Linear(hidden_dim, hidden_dim, bias = True)\n",
    "        self.h_to_y = torch.nn.Linear(hidden_dim, output_dim, bias = True)\n",
    "        self.hidden_actvation = hidden_activation\n",
    "        self.output_activation = output_activation\n",
    "        \n",
    "    def step(self, x: FloatTensor, h: FloatTensor) -> Tuple[FloatTensor, FloatTensor]:\n",
    "        # ...\n",
    "        hidden = self.hidden_activation(self.x_to_h(self.h_to_h(x)))\n",
    "        y = self.output_activation(self.h_to_y(hidden))\n",
    "        return hidden, y\n",
    "        \n",
    "    def forward(self, X: List[FloatTensor], h: FloatTensor) -> List[FloatTensor]:\n",
    "        # ...\n",
    "        h_t = h\n",
    "        ans = []\n",
    "        for x in X:\n",
    "            y, h_t  = self.step(x, h)\n",
    "            ans.append(y)\n",
    "        return ans"
   ]
  },
  {
   "cell_type": "code",
   "execution_count": 331,
   "metadata": {},
   "outputs": [
    {
     "name": "stdout",
     "output_type": "stream",
     "text": [
      "torch.Size([128, 30])\n"
     ]
    }
   ],
   "source": [
    "m = torch.nn.Linear(20, 30, bias = True)\n",
    "input = torch.randn(128, 20)\n",
    "output = m(input)\n",
    "print(output.size())\n",
    "y"
   ]
  },
  {
   "cell_type": "markdown",
   "metadata": {},
   "source": [
    "<div class=\"alert alert-block alert-warning\">\n",
    "<b>Show the completed code to your teacher before proceeding</b>\n",
    "</div>"
   ]
  },
  {
   "cell_type": "markdown",
   "metadata": {},
   "source": [
    "In practice, we do not need to write our own functions for common RNN architectures. \n",
    "Torch already provides the [necessary abstractions](https://pytorch.org/docs/stable/nn.html#recurrent-layers).\n",
    "\n",
    "The [RNN](https://pytorch.org/docs/stable/nn.html#rnn) wrapper implements highly optimized forward routines to compute the hidden representations of a full input sequence.\n",
    "\n",
    "Some pointers:\n",
    "* Unlike our naive implementation, RNN accepts a 3-dimensional tensor of shape (seq_len, batch_shape, input_dim) rather than a list of 2-dimensional tensors\n",
    "* If no initial hidden state is provided, it defaults to a zero tensor\n",
    "* The class produces just the RNN hidden states; it is up to us to define the `h_to_y` transformation on top of them\n",
    "* The non-linearity argument is a string; our only two choices are either `\"tanh\"` or `\"relu\"` (shorthands for `torch.nn.Tanh` and `torch.nn.ReLU` respectively)\n",
    "\n",
    "Read the documentation (!) for further details.\n",
    "\n",
    "A brief example is given below."
   ]
  },
  {
   "cell_type": "code",
   "execution_count": 332,
   "metadata": {},
   "outputs": [
    {
     "name": "stdout",
     "output_type": "stream",
     "text": [
      "torch.Size([10, 32, 48])\n"
     ]
    }
   ],
   "source": [
    "rnn = torch.nn.RNN(input_size=16, hidden_size=48, nonlinearity=\"tanh\")\n",
    "X = torch.rand(10, 32, 16)\n",
    "h, _ = rnn(X)\n",
    "print(h.shape)"
   ]
  },
  {
   "cell_type": "markdown",
   "metadata": {},
   "source": [
    "So, for a random input tensor of shape (seq_len, batch_size, input_dim), we get back an output tensor of shape (seq_len, batch_size, hidden_dim)"
   ]
  },
  {
   "cell_type": "code",
   "execution_count": 333,
   "metadata": {},
   "outputs": [],
   "source": [
    "del mySRN, rnn, X, h"
   ]
  },
  {
   "cell_type": "markdown",
   "metadata": {},
   "source": [
    "### Task 2 (2 points): A faster version of the SRN\n",
    "Now let's wrap an `RNN` into a custom module `myFastSRN` that implements it aside from the `h_to_y` transformation."
   ]
  },
  {
   "cell_type": "code",
   "execution_count": 6,
   "metadata": {},
   "outputs": [],
   "source": [
    "class fastSRN(torch.nn.Module):\n",
    "    def __init__(\n",
    "        self, \n",
    "        input_dim: int, \n",
    "        hidden_dim: int,\n",
    "        output_dim: int,\n",
    "        hidden_activation: str,\n",
    "        output_activation: Callable[[FloatTensor], FloatTensor],\n",
    "        device: str\n",
    "    ) -> None:\n",
    "        super(fastSRN, self).__init__() # why?\n",
    "        self.input_dim = input_dim\n",
    "        self.hidden_dim = hidden_dim\n",
    "        self.hidden_activation = hidden_activation\n",
    "        self.output_activation = output_activation\n",
    "        self.h_to_y = torch.nn.Linear(hidden_dim, output_dim)\n",
    "        self.device = device\n",
    "        \n",
    "    def forward(self, X:FloatTensor, h: Optional[FloatTensor]=None) -> FloatTensor:\n",
    "        \n",
    "        if h is not None:\n",
    "            self.rnn = torch.nn.RNN(input_size=self.input_dim, \n",
    "                                    hidden_size=self.hidden_dim, \n",
    "                                    nonlinearity=self.hidden_activation, h_0 = h)\n",
    "        else:\n",
    "            self.rnn = torch.nn.RNN(input_size=self.input_dim, \n",
    "                                    hidden_size=self.hidden_dim, \n",
    "                                    nonlinearity=self.hidden_activation)\n",
    "        H, _ = self.rnn(X)\n",
    "        \n",
    "        return self.output_activation(self.h_to_y(H))"
   ]
  },
  {
   "cell_type": "markdown",
   "metadata": {},
   "source": [
    "Let's see our new implementation in action. \n",
    "\n",
    "Initialize a random input tensor $X$ that would correspond to 32 sequences,  each of length 10, with each item having 16 features, and a `fastSRN` fit to process it, producing 42-dimensional hidden states and 2-dimensional output vectors for each sequence item.\n",
    "\n",
    "Run the SRN on the tensor and make sure the output shape is as expected."
   ]
  },
  {
   "cell_type": "code",
   "execution_count": 334,
   "metadata": {},
   "outputs": [
    {
     "data": {
      "text/plain": [
       "torch.Size([10, 32, 2])"
      ]
     },
     "execution_count": 334,
     "metadata": {},
     "output_type": "execute_result"
    }
   ],
   "source": [
    "fast_srn = fastSRN(input_dim = 16, \n",
    "                   hidden_dim= 48,\n",
    "                   output_dim= 2,\n",
    "                   hidden_activation= 'tanh',\n",
    "                   output_activation= torch.nn.ReLU(),\n",
    "                   device = 'cpu')\n",
    "X = torch.rand(10, 32, 16)\n",
    "y = fast_srn.forward(X)\n",
    "y.shape"
   ]
  },
  {
   "cell_type": "markdown",
   "metadata": {},
   "source": [
    "<div class=\"alert alert-block alert-warning\">\n",
    "<b>Show the completed code to your teacher before proceeding</b>\n",
    "</div>"
   ]
  },
  {
   "cell_type": "markdown",
   "metadata": {},
   "source": [
    "Hopefully everything should be in order.\n",
    "\n",
    "You may have noticed a minor complication: in order to utilize batching, we need our input sequences to be of the same length.\n",
    "\n",
    "This, however, is very rarely the case in practice. A common trick against this problem is _padding_; that is, appending zero tensors to all input sequences shorter than the maximum in-batch length to make them all equally long.\n",
    "\n",
    "As usual, torch already does the hard work for us via [pad_sequence](https://pytorch.org/docs/stable/nn.html?highlight=pad%20_sequence#torch.nn.utils.rnn.pad_sequence). Given a list of $N$ 2-dimensional tensors, each of shape (seq\\_len$_n$, input_dim), it will construct a 3-d tensor of shape ($max_{n \\in N}${seq\\_len$_n$}, N, input_dim).\n",
    "\n",
    "An example:"
   ]
  },
  {
   "cell_type": "code",
   "execution_count": 335,
   "metadata": {},
   "outputs": [
    {
     "name": "stdout",
     "output_type": "stream",
     "text": [
      "torch.Size([7, 3, 16])\n"
     ]
    }
   ],
   "source": [
    "x_1 = torch.rand(1, 16)  # a sequence of 1, 16-dimensional item\n",
    "x_2 = torch.rand(7, 16)  # a sequence of 7, 16-dimensional items\n",
    "x_3 = torch.rand(5, 16)  # a sequence of 5, 16-dimensional items\n",
    "\n",
    "X = torch.nn.utils.rnn.pad_sequence([x_1, x_2, x_3])  \n",
    "\n",
    "# Can you guess what the shape of X is?\n",
    "print(X.shape)"
   ]
  },
  {
   "cell_type": "code",
   "execution_count": 336,
   "metadata": {},
   "outputs": [],
   "source": [
    "del x_1, x_2, x_3, X"
   ]
  },
  {
   "cell_type": "markdown",
   "metadata": {},
   "source": [
    "## Pretrained Word Embeddings\n",
    "Moving on --- in the last assignment, we saw how to train our own word embeddings using a small toy corpus. Now, we will see how to easily employ high-quality pretrained word vectors and, later on, how to utilize them for further downstream tasks.\n",
    "\n",
    "We are going to use [spaCy](https://spacy.io/). SpaCy is a high-level NLP library that provides a ton of useful functionalities, but we will only focus on its pretrained embeddings for this assignment.\n",
    "\n",
    "Before proceeding, [install spacy](https://spacy.io/usage) using your python package manager (e.g. `pip install spacy`)."
   ]
  },
  {
   "cell_type": "code",
   "execution_count": 337,
   "metadata": {},
   "outputs": [],
   "source": [
    "import spacy"
   ]
  },
  {
   "cell_type": "code",
   "execution_count": null,
   "metadata": {},
   "outputs": [],
   "source": []
  },
  {
   "cell_type": "markdown",
   "metadata": {},
   "source": [
    "SpaCy comes with a lot of different-size models for different languages. \n",
    "\n",
    "We will need to download the small english model for the exercises to follow. You can either do it in a new terminal window (optimal if you are running this assignment through a virtual environment) or by simply running the magic command below. "
   ]
  },
  {
   "cell_type": "code",
   "execution_count": 11,
   "metadata": {
    "scrolled": true
   },
   "outputs": [],
   "source": [
    "# python3 -m spacy download en_core_web_lg"
   ]
  },
  {
   "cell_type": "markdown",
   "metadata": {},
   "source": [
    "After having downloaded the model, we can load it as follows (you may need to restart your notebook after the download is complete):"
   ]
  },
  {
   "cell_type": "code",
   "execution_count": 338,
   "metadata": {},
   "outputs": [],
   "source": [
    "nlp = spacy.load(\"en_core_web_lg\")"
   ]
  },
  {
   "cell_type": "markdown",
   "metadata": {},
   "source": [
    "We can then use the loaded model to process a sentence and obtain its word vectors, a List of 300-dimensional numpy arrays."
   ]
  },
  {
   "cell_type": "code",
   "execution_count": 13,
   "metadata": {},
   "outputs": [
    {
     "name": "stdout",
     "output_type": "stream",
     "text": [
      "We have 7 vectors...\n",
      "...each of shape (300,)\n"
     ]
    }
   ],
   "source": [
    "doc = nlp(\"this is a sentence of 7 words\")  # the processed sentence\n",
    "vectors = list(map(lambda x: x.vector, doc))  # its vectors\n",
    "print(\"We have {} vectors...\".format(len(vectors)))\n",
    "print(\"...each of shape {}\".format(vectors[0].shape))"
   ]
  },
  {
   "cell_type": "markdown",
   "metadata": {},
   "source": [
    "And then finally convert them into torch tensors."
   ]
  },
  {
   "cell_type": "code",
   "execution_count": 14,
   "metadata": {},
   "outputs": [
    {
     "name": "stdout",
     "output_type": "stream",
     "text": [
      "torch.Size([7, 300])\n"
     ]
    }
   ],
   "source": [
    "torch_vectors = torch.tensor(vectors)\n",
    "print(torch_vectors.shape)"
   ]
  },
  {
   "cell_type": "markdown",
   "metadata": {},
   "source": [
    "Or, in the case of multiple sentences:"
   ]
  },
  {
   "cell_type": "code",
   "execution_count": 15,
   "metadata": {},
   "outputs": [
    {
     "name": "stdout",
     "output_type": "stream",
     "text": [
      "torch.Size([4, 300])\n"
     ]
    }
   ],
   "source": [
    "# Example sentences.\n",
    "sentences = [\"This is a sentence\", \"This is another sentence.\"]\n",
    "\n",
    "# Parallel processing with spacy.\n",
    "docs = list(map(nlp, sentences))\n",
    "\n",
    "# Convert each processed sentence into a list of vectors.\n",
    "vectors = map(lambda doc: [word.vector for word in doc], docs)\n",
    "\n",
    "# Convert each list of vectors into a 2-d torch tensor.\n",
    "tensors = list(map(lambda sentence_vectors: torch.tensor(sentence_vectors), vectors))\n",
    "print(tensors[0].shape)"
   ]
  },
  {
   "cell_type": "markdown",
   "metadata": {},
   "source": [
    "## POS Tagging\n",
    "Given our pretrained embeddings, we may represent sentences as _sequences of vectors_, which is exactly the format expected by an RNN.\n",
    "We will now try to train an SRN to iterate over a sentence and assign part of speech tags to each of its words."
   ]
  },
  {
   "cell_type": "markdown",
   "metadata": {},
   "source": [
    "### Task 3 (1 point): Examining the data"
   ]
  },
  {
   "cell_type": "markdown",
   "metadata": {},
   "source": [
    "First, let's load and inspect our data files.\n",
    "\n",
    "The pickle file contains three items:\n",
    "1. `sentences`: a List of strings (sentences)\n",
    "2. `postags`: a List of Lists of strings (POS tags)\n",
    "3. `pos_to_int`: a Dictionary from strings to ints (mapping each POS tag to a unique identifier)\n"
   ]
  },
  {
   "cell_type": "code",
   "execution_count": 16,
   "metadata": {},
   "outputs": [],
   "source": [
    "import pickle\n",
    "with open(\"TRAIN.p\", \"rb\") as f:\n",
    "    sentences, postags, pos_to_int = pickle.load(f)"
   ]
  },
  {
   "cell_type": "code",
   "execution_count": 17,
   "metadata": {},
   "outputs": [],
   "source": [
    "assert all(list(map(lambda s, p: len(s.split()) == len(p), sentences, postags)))"
   ]
  },
  {
   "cell_type": "markdown",
   "metadata": {},
   "source": [
    "Now, let us take a moment to understand the data a bit more. \n",
    "Run the cell below a couple of times to get an idea of how the data looks like."
   ]
  },
  {
   "cell_type": "code",
   "execution_count": 18,
   "metadata": {},
   "outputs": [
    {
     "name": "stdout",
     "output_type": "stream",
     "text": [
      "[('Financial', 'JJ'), ('printer', 'NN'), ('Bowne', 'NNP'), ('&', 'CC'), ('Co.', 'NNP'), ('said', 'VBD'), ('it', 'PRP'), ('formed', 'VBD'), ('a', 'DT'), ('business', 'NN'), ('translation', 'NN'), ('service', 'NN'), (',', ','), ('which', 'WDT'), ('will', 'MD'), ('provide', 'VB'), ('legal', 'JJ'), (',', ','), ('financial', 'JJ'), ('and', 'CC'), ('other', 'JJ'), ('services', 'NNS'), ('in', 'IN'), ('most', 'JJS'), ('major', 'JJ'), ('languages', 'NNS'), (',', ','), ('including', 'VBG'), ('Japanese', 'NNP'), (',', ','), ('Chinese', 'NNP'), ('and', 'CC'), ('Russian', 'NNP'), ('.', '.')]\n"
     ]
    }
   ],
   "source": [
    "import numpy as np\n",
    "i = np.random.randint(0, len(sentences))\n",
    "print(list(zip(sentences[i].split(), postags[i])))"
   ]
  },
  {
   "cell_type": "markdown",
   "metadata": {},
   "source": [
    "The POS tags in this dataset are in the style of the Penn Treebank. Find the top 20 most common tags and plot a histogram of their frequencies. If you are curious, also find out what these tags mean linguisically! https://www.ling.upenn.edu/courses/Fall_2003/ling001/penn_treebank_pos.html"
   ]
  },
  {
   "cell_type": "code",
   "execution_count": null,
   "metadata": {},
   "outputs": [],
   "source": []
  },
  {
   "cell_type": "code",
   "execution_count": 19,
   "metadata": {},
   "outputs": [
    {
     "data": {
      "text/plain": [
       "(array([1.08377004e-01, 9.09110677e-02, 9.92625502e-02, 4.02299443e-02,\n",
       "        1.42927391e-01, 9.25331444e-03, 1.43896364e-03, 2.18728577e-02,\n",
       "        6.41002605e-02, 1.41409078e-02, 5.17981132e-02, 2.61516001e-02,\n",
       "        1.44811930e-03, 3.37080666e-02, 3.52050161e-02, 2.45890351e-02,\n",
       "        4.54913935e-02, 2.52146715e-02, 5.95697377e-02, 2.05239247e-02,\n",
       "        9.16480979e-03, 1.13133366e-02, 3.03693048e-02, 1.64206657e-02,\n",
       "        2.88250511e-03, 1.94099868e-03, 2.70396985e-03, 4.38403239e-03,\n",
       "        3.60732773e-03, 4.37945456e-04, 4.80671842e-04, 2.47507850e-03,\n",
       "        2.15920843e-03, 7.73652774e-03, 2.99389890e-03, 2.36368471e-03,\n",
       "        2.76195566e-04, 3.08240356e-04, 1.22533171e-03, 1.06815965e-03,\n",
       "        1.90742794e-04, 1.72431486e-04, 3.81485589e-05, 1.15971619e-04,\n",
       "        1.66327717e-04, 1.52594236e-06, 1.22075388e-05, 5.34079824e-05]),\n",
       " array([ 0.        ,  0.97916667,  1.95833333,  2.9375    ,  3.91666667,\n",
       "         4.89583333,  5.875     ,  6.85416667,  7.83333333,  8.8125    ,\n",
       "         9.79166667, 10.77083333, 11.75      , 12.72916667, 13.70833333,\n",
       "        14.6875    , 15.66666667, 16.64583333, 17.625     , 18.60416667,\n",
       "        19.58333333, 20.5625    , 21.54166667, 22.52083333, 23.5       ,\n",
       "        24.47916667, 25.45833333, 26.4375    , 27.41666667, 28.39583333,\n",
       "        29.375     , 30.35416667, 31.33333333, 32.3125    , 33.29166667,\n",
       "        34.27083333, 35.25      , 36.22916667, 37.20833333, 38.1875    ,\n",
       "        39.16666667, 40.14583333, 41.125     , 42.10416667, 43.08333333,\n",
       "        44.0625    , 45.04166667, 46.02083333, 47.        ]),\n",
       " <BarContainer object of 48 artists>)"
      ]
     },
     "execution_count": 19,
     "metadata": {},
     "output_type": "execute_result"
    },
    {
     "data": {
      "image/png": "[encoded data removed]",
      "text/plain": [
       "<Figure size 3600x1080 with 1 Axes>"
      ]
     },
     "metadata": {
      "needs_background": "light"
     },
     "output_type": "display_data"
    }
   ],
   "source": [
    "from itertools import chain\n",
    "onid = list(chain.from_iterable(postags))\n",
    "import matplotlib.pyplot as plt\n",
    "plt.figure(figsize=(50, 15))\n",
    "plt.hist(onid, density = True, bins= 48)"
   ]
  },
  {
   "cell_type": "markdown",
   "metadata": {},
   "source": [
    "<div class=\"alert alert-block alert-warning\">\n",
    "<b>Show the completed code to your teacher before proceeding</b>\n",
    "</div>"
   ]
  },
  {
   "cell_type": "markdown",
   "metadata": {},
   "source": [
    "### Task 4 (1 point): Tensorizing sentences\n",
    "Next, we need to convert our data to numeric form. Convert sentences to their tensor format, as done earlier (this may take a while). \n",
    "\n",
    "<div class=\"alert alert-block alert-info\">\n",
    "<b>Important!</b>\n",
    "Since the sentences are pre-tokenized (i.e. they are provided as sequences of words rather than strings), we need to change the processing call to ensure the output vectors are aligned with our tokenization.\n",
    "</div>"
   ]
  },
  {
   "cell_type": "code",
   "execution_count": 20,
   "metadata": {},
   "outputs": [],
   "source": [
    "docs = list(map(\n",
    "    lambda sentence: spacy.tokens.doc.Doc(nlp.vocab, words=sentence.split()), \n",
    "    sentences\n",
    "))\n",
    "from spacy.tokenizer import Tokenizer\n",
    "from spacy.lang.en import English\n",
    "# Create a blank Tokenizer with just the English vocab\n",
    "tokenizer = nlp.tokenizer"
   ]
  },
  {
   "cell_type": "code",
   "execution_count": 21,
   "metadata": {},
   "outputs": [],
   "source": [
    "all_tokens = []\n",
    "for i in range(len(docs)):\n",
    "    for token in docs[i]:\n",
    "        all_tokens.append(token)\n",
    "        \n",
    "token_to_int = dict()\n",
    "m = 0\n",
    "for token in all_tokens:\n",
    "    if token not in token_to_int.keys():\n",
    "        token_to_int.setdefault(str(token), m)\n",
    "        m += 1\n",
    "    else:\n",
    "        continue"
   ]
  },
  {
   "cell_type": "code",
   "execution_count": 22,
   "metadata": {},
   "outputs": [
    {
     "data": {
      "text/plain": [
       "0"
      ]
     },
     "execution_count": 22,
     "metadata": {},
     "output_type": "execute_result"
    }
   ],
   "source": [
    "token_to_int['In']"
   ]
  },
  {
   "cell_type": "code",
   "execution_count": 23,
   "metadata": {},
   "outputs": [
    {
     "data": {
      "text/plain": [
       "In an Oct. 19 review of The Misanthrope at Chicago 's Goodman Theatre -LRB- Revitalized Classics Take the Stage in Windy City , Leisure & Arts -RRB- , the role of Celimene , played by Kim Cattrall , was mistakenly attributed to Christina Haag . "
      ]
     },
     "execution_count": 23,
     "metadata": {},
     "output_type": "execute_result"
    }
   ],
   "source": [
    "kk = lambda token_sequence: [token_to_int[token] for token in token_sequence]\n",
    "docs[0]"
   ]
  },
  {
   "cell_type": "code",
   "execution_count": 24,
   "metadata": {
    "scrolled": true
   },
   "outputs": [
    {
     "name": "stdout",
     "output_type": "stream",
     "text": [
      "torch.Size([45, 300])\n",
      "tensor([[ 0.0892,  0.2579,  0.2628,  ...,  0.1442, -0.1690,  0.2650],\n",
      "        [-0.0117,  0.1948,  0.0889,  ..., -0.0547, -0.1934,  0.1400],\n",
      "        [-0.1505, -0.1601,  0.2423,  ...,  0.8117, -0.1359,  1.1897],\n",
      "        ...,\n",
      "        [-0.4646,  0.7281,  0.2261,  ..., -0.6087, -0.3987, -0.0845],\n",
      "        [ 0.3048,  0.1488,  0.4392,  ...,  0.0393, -0.5180, -0.1768],\n",
      "        [ 0.0120,  0.2075, -0.1258,  ...,  0.1387, -0.3605, -0.0350]])\n"
     ]
    }
   ],
   "source": [
    "import torch\n",
    "from tqdm import tqdm\n",
    "\n",
    "docs = list(map(nlp, sentences))\n",
    "doc_vectors = map(lambda doc: [word.vector for word in doc], docs)\n",
    "doc_tensors = list(map(lambda doc_vectors_sequence: torch.tensor(doc_vectors_sequence), doc_vectors))\n",
    "\n",
    "print(doc_tensors[0].shape)\n",
    "print(doc_tensors[0])"
   ]
  },
  {
   "cell_type": "code",
   "execution_count": 339,
   "metadata": {},
   "outputs": [
    {
     "data": {
      "text/plain": [
       "\"In an Oct. 19 review of The Misanthrope at Chicago 's Goodman Theatre -LRB- Revitalized Classics Take the Stage in Windy City , Leisure & Arts -RRB- , the role of Celimene , played by Kim Cattrall , was mistakenly attributed to Christina Haag .\""
      ]
     },
     "execution_count": 339,
     "metadata": {},
     "output_type": "execute_result"
    }
   ],
   "source": [
    "sentences[0]"
   ]
  },
  {
   "cell_type": "markdown",
   "metadata": {},
   "source": [
    "Similarly, we will use `pos_to_int` to convert the POS sequences into tensors."
   ]
  },
  {
   "cell_type": "code",
   "execution_count": 170,
   "metadata": {},
   "outputs": [
    {
     "name": "stdout",
     "output_type": "stream",
     "text": [
      "torch.Size([45])\n",
      "tensor([21,  6, 11,  0, 24, 21,  6, 24, 21, 11, 16, 11, 11, 14, 15, 31,  1,  6,\n",
      "        24, 21, 11, 11, 28, 24, 32, 31,  7, 28,  6, 24, 21, 11, 28, 15, 21, 11,\n",
      "        11, 28, 22, 40, 15, 35, 11, 11, 13])\n"
     ]
    }
   ],
   "source": [
    "pos_numeric = list(map(lambda pos_sequence: [pos_to_int[pos] - 1 for pos in pos_sequence], postags))\n",
    "pos_tensors =  list(map(lambda pos_num_sequence: torch.tensor(pos_num_sequence), pos_numeric))\n",
    "print(pos_tensors[0].shape)\n",
    "print(pos_tensors[0])"
   ]
  },
  {
   "cell_type": "code",
   "execution_count": 171,
   "metadata": {},
   "outputs": [
    {
     "data": {
      "text/plain": [
       "{'CD': 1,\n",
       " 'VBP': 2,\n",
       " '#': 3,\n",
       " 'RBS': 18,\n",
       " 'RP': 4,\n",
       " 'SBAR': 42,\n",
       " '$': 5,\n",
       " 'WDT': 6,\n",
       " 'DT': 7,\n",
       " 'RRB': 8,\n",
       " 'EX': 10,\n",
       " 'JJS': 11,\n",
       " 'LS': 44,\n",
       " 'NNP': 12,\n",
       " '.': 14,\n",
       " 'LRB': 15,\n",
       " 'VBN': 16,\n",
       " 'POS': 17,\n",
       " 'AS': 19,\n",
       " 'VB': 20,\n",
       " 'PRP$': 21,\n",
       " 'IN': 22,\n",
       " 'UH': 46,\n",
       " 'VBZ': 26,\n",
       " 'VBD': 23,\n",
       " 'PDT': 24,\n",
       " 'NN': 25,\n",
       " 'SYM': 13,\n",
       " 'NNPS': 27,\n",
       " 'RBR': 28,\n",
       " ',': 29,\n",
       " 'WRB': 31,\n",
       " 'NNS': 32,\n",
       " 'PRP': 34,\n",
       " 'CC': 33,\n",
       " 'VBG': 30,\n",
       " ':': 35,\n",
       " 'TO': 36,\n",
       " 'FW': 37,\n",
       " 'JJ': 38,\n",
       " 'NP': 39,\n",
       " 'WP$': 40,\n",
       " 'RB': 41,\n",
       " ';': 43,\n",
       " 'MD': 45,\n",
       " 'JJR': 47,\n",
       " 'WP': 48,\n",
       " 'SO': 9}"
      ]
     },
     "execution_count": 171,
     "metadata": {},
     "output_type": "execute_result"
    }
   ],
   "source": [
    "pos_to_int"
   ]
  },
  {
   "cell_type": "code",
   "execution_count": 172,
   "metadata": {},
   "outputs": [
    {
     "ename": "NameError",
     "evalue": "name 'doc_vectors' is not defined",
     "output_type": "error",
     "traceback": [
      "\u001b[0;31m---------------------------------------------------------------------------\u001b[0m",
      "\u001b[0;31mNameError\u001b[0m                                 Traceback (most recent call last)",
      "\u001b[0;32m<ipython-input-172-ab674977e26b>\u001b[0m in \u001b[0;36m<module>\u001b[0;34m\u001b[0m\n\u001b[0;32m----> 1\u001b[0;31m \u001b[0;32mdel\u001b[0m \u001b[0mdoc_vectors\u001b[0m\u001b[0;34m,\u001b[0m \u001b[0mdocs\u001b[0m\u001b[0;34m,\u001b[0m \u001b[0mpos_numeric\u001b[0m\u001b[0;34m\u001b[0m\u001b[0;34m\u001b[0m\u001b[0m\n\u001b[0m",
      "\u001b[0;31mNameError\u001b[0m: name 'doc_vectors' is not defined"
     ]
    }
   ],
   "source": [
    "del doc_vectors, docs, pos_numeric"
   ]
  },
  {
   "cell_type": "markdown",
   "metadata": {},
   "source": [
    "In the tutorial, we saw how to split our dataset into a training and a validation set. \n",
    "\n",
    "Do the same here, splitting the sentences, postags and their corresponding tensors into a training and a validation set."
   ]
  },
  {
   "cell_type": "code",
   "execution_count": 173,
   "metadata": {},
   "outputs": [
    {
     "data": {
      "text/plain": [
       "30197"
      ]
     },
     "execution_count": 173,
     "metadata": {},
     "output_type": "execute_result"
    }
   ],
   "source": [
    "len(postags)"
   ]
  },
  {
   "cell_type": "code",
   "execution_count": 174,
   "metadata": {},
   "outputs": [],
   "source": [
    "from sklearn.model_selection import train_test_split\n",
    "sentences_train, sentences_val, postags_train, postags_val = \\\n",
    "train_test_split(sentences, postags, test_size=0.33, random_state=42)\n",
    "X_train, X_val, Y_train, Y_val = \\\n",
    "train_test_split(doc_tensors, pos_tensors, test_size=0.33, random_state=42)\n",
    "\n",
    "assert len(X_train) == len(Y_train) == len(sentences_train)\n",
    "assert len(X_val) == len(Y_val) == len(sentences_val)"
   ]
  },
  {
   "cell_type": "code",
   "execution_count": 279,
   "metadata": {},
   "outputs": [
    {
     "name": "stdout",
     "output_type": "stream",
     "text": [
      "torch.Size([34, 300]) torch.Size([32])\n",
      "torch.Size([38, 300]) torch.Size([36])\n",
      "torch.Size([49, 300]) torch.Size([47])\n",
      "torch.Size([29, 300]) torch.Size([25])\n",
      "torch.Size([30, 300]) torch.Size([28])\n",
      "torch.Size([32, 300]) torch.Size([30])\n",
      "torch.Size([34, 300]) torch.Size([32])\n",
      "torch.Size([37, 300]) torch.Size([35])\n",
      "torch.Size([23, 300]) torch.Size([19])\n",
      "torch.Size([21, 300]) torch.Size([19])\n",
      "torch.Size([22, 300]) torch.Size([20])\n",
      "torch.Size([27, 300]) torch.Size([25])\n",
      "torch.Size([48, 300]) torch.Size([46])\n",
      "torch.Size([36, 300]) torch.Size([34])\n",
      "torch.Size([27, 300]) torch.Size([25])\n",
      "torch.Size([30, 300]) torch.Size([28])\n",
      "torch.Size([34, 300]) torch.Size([32])\n",
      "torch.Size([31, 300]) torch.Size([29])\n",
      "torch.Size([38, 300]) torch.Size([36])\n",
      "torch.Size([39, 300]) torch.Size([37])\n",
      "torch.Size([31, 300]) torch.Size([29])\n",
      "torch.Size([34, 300]) torch.Size([32])\n",
      "torch.Size([32, 300]) torch.Size([30])\n",
      "torch.Size([33, 300]) torch.Size([31])\n",
      "torch.Size([39, 300]) torch.Size([35])\n",
      "torch.Size([35, 300]) torch.Size([33])\n",
      "torch.Size([28, 300]) torch.Size([26])\n",
      "torch.Size([37, 300]) torch.Size([35])\n",
      "torch.Size([28, 300]) torch.Size([26])\n",
      "torch.Size([16, 300]) torch.Size([14])\n",
      "torch.Size([34, 300]) torch.Size([32])\n",
      "torch.Size([28, 300]) torch.Size([24])\n",
      "torch.Size([26, 300]) torch.Size([24])\n",
      "torch.Size([22, 300]) torch.Size([20])\n",
      "torch.Size([32, 300]) torch.Size([30])\n",
      "torch.Size([30, 300]) torch.Size([28])\n",
      "torch.Size([44, 300]) torch.Size([42])\n",
      "torch.Size([46, 300]) torch.Size([44])\n",
      "torch.Size([29, 300]) torch.Size([25])\n",
      "torch.Size([17, 300]) torch.Size([15])\n",
      "torch.Size([24, 300]) torch.Size([22])\n",
      "torch.Size([12, 300]) torch.Size([10])\n",
      "torch.Size([29, 300]) torch.Size([27])\n",
      "torch.Size([20, 300]) torch.Size([18])\n",
      "torch.Size([26, 300]) torch.Size([24])\n",
      "torch.Size([24, 300]) torch.Size([22])\n",
      "torch.Size([21, 300]) torch.Size([17])\n",
      "torch.Size([14, 300]) torch.Size([12])\n",
      "torch.Size([25, 300]) torch.Size([23])\n",
      "torch.Size([44, 300]) torch.Size([42])\n",
      "torch.Size([19, 300]) torch.Size([17])\n",
      "torch.Size([25, 300]) torch.Size([23])\n",
      "torch.Size([16, 300]) torch.Size([14])\n",
      "torch.Size([37, 300]) torch.Size([35])\n",
      "torch.Size([15, 300]) torch.Size([13])\n",
      "torch.Size([36, 300]) torch.Size([34])\n",
      "torch.Size([19, 300]) torch.Size([17])\n",
      "torch.Size([42, 300]) torch.Size([40])\n",
      "torch.Size([27, 300]) torch.Size([25])\n",
      "torch.Size([25, 300]) torch.Size([23])\n",
      "torch.Size([28, 300]) torch.Size([26])\n",
      "torch.Size([53, 300]) torch.Size([51])\n",
      "torch.Size([36, 300]) torch.Size([34])\n",
      "torch.Size([26, 300]) torch.Size([24])\n",
      "torch.Size([26, 300]) torch.Size([24])\n",
      "torch.Size([44, 300]) torch.Size([42])\n",
      "torch.Size([45, 300]) torch.Size([43])\n",
      "torch.Size([31, 300]) torch.Size([29])\n",
      "torch.Size([21, 300]) torch.Size([19])\n",
      "torch.Size([26, 300]) torch.Size([24])\n",
      "torch.Size([23, 300]) torch.Size([19])\n",
      "torch.Size([26, 300]) torch.Size([24])\n",
      "torch.Size([24, 300]) torch.Size([22])\n",
      "torch.Size([28, 300]) torch.Size([26])\n",
      "torch.Size([66, 300]) torch.Size([62])\n",
      "torch.Size([40, 300]) torch.Size([38])\n",
      "torch.Size([28, 300]) torch.Size([26])\n",
      "torch.Size([13, 300]) torch.Size([11])\n",
      "torch.Size([35, 300]) torch.Size([33])\n",
      "torch.Size([13, 300]) torch.Size([11])\n",
      "torch.Size([13, 300]) torch.Size([11])\n",
      "torch.Size([38, 300]) torch.Size([36])\n",
      "torch.Size([30, 300]) torch.Size([28])\n",
      "torch.Size([47, 300]) torch.Size([45])\n",
      "torch.Size([26, 300]) torch.Size([24])\n",
      "torch.Size([23, 300]) torch.Size([21])\n",
      "torch.Size([21, 300]) torch.Size([19])\n",
      "torch.Size([27, 300]) torch.Size([25])\n",
      "torch.Size([26, 300]) torch.Size([22])\n",
      "torch.Size([25, 300]) torch.Size([23])\n",
      "torch.Size([34, 300]) torch.Size([32])\n",
      "torch.Size([25, 300]) torch.Size([23])\n",
      "torch.Size([15, 300]) torch.Size([13])\n",
      "torch.Size([26, 300]) torch.Size([24])\n",
      "torch.Size([43, 300]) torch.Size([41])\n",
      "torch.Size([26, 300]) torch.Size([24])\n",
      "torch.Size([44, 300]) torch.Size([42])\n",
      "torch.Size([22, 300]) torch.Size([20])\n",
      "torch.Size([23, 300]) torch.Size([21])\n",
      "torch.Size([29, 300]) torch.Size([27])\n",
      "torch.Size([18, 300]) torch.Size([16])\n",
      "torch.Size([32, 300]) torch.Size([30])\n",
      "torch.Size([37, 300]) torch.Size([35])\n",
      "torch.Size([10, 300]) torch.Size([8])\n",
      "torch.Size([14, 300]) torch.Size([12])\n",
      "torch.Size([23, 300]) torch.Size([21])\n",
      "torch.Size([39, 300]) torch.Size([37])\n",
      "torch.Size([16, 300]) torch.Size([14])\n",
      "torch.Size([14, 300]) torch.Size([12])\n",
      "torch.Size([15, 300]) torch.Size([13])\n",
      "torch.Size([34, 300]) torch.Size([32])\n",
      "torch.Size([32, 300]) torch.Size([30])\n",
      "torch.Size([36, 300]) torch.Size([32])\n",
      "torch.Size([26, 300]) torch.Size([24])\n",
      "torch.Size([30, 300]) torch.Size([28])\n",
      "torch.Size([30, 300]) torch.Size([28])\n",
      "torch.Size([27, 300]) torch.Size([25])\n",
      "torch.Size([13, 300]) torch.Size([11])\n",
      "torch.Size([39, 300]) torch.Size([37])\n",
      "torch.Size([25, 300]) torch.Size([23])\n",
      "torch.Size([30, 300]) torch.Size([28])\n",
      "torch.Size([35, 300]) torch.Size([33])\n",
      "torch.Size([31, 300]) torch.Size([29])\n",
      "torch.Size([20, 300]) torch.Size([18])\n",
      "torch.Size([40, 300]) torch.Size([38])\n",
      "torch.Size([24, 300]) torch.Size([20])\n",
      "torch.Size([62, 300]) torch.Size([60])\n",
      "torch.Size([46, 300]) torch.Size([42])\n",
      "torch.Size([39, 300]) torch.Size([37])\n",
      "torch.Size([34, 300]) torch.Size([32])\n",
      "torch.Size([46, 300]) torch.Size([44])\n",
      "torch.Size([24, 300]) torch.Size([22])\n",
      "torch.Size([22, 300]) torch.Size([20])\n",
      "torch.Size([26, 300]) torch.Size([24])\n",
      "torch.Size([25, 300]) torch.Size([23])\n",
      "torch.Size([25, 300]) torch.Size([23])\n",
      "torch.Size([84, 300]) torch.Size([80])\n",
      "torch.Size([35, 300]) torch.Size([31])\n",
      "torch.Size([44, 300]) torch.Size([42])\n",
      "torch.Size([13, 300]) torch.Size([11])\n",
      "torch.Size([26, 300]) torch.Size([24])\n",
      "torch.Size([30, 300]) torch.Size([26])\n",
      "torch.Size([17, 300]) torch.Size([15])\n",
      "torch.Size([34, 300]) torch.Size([32])\n",
      "torch.Size([26, 300]) torch.Size([24])\n",
      "torch.Size([29, 300]) torch.Size([25])\n",
      "torch.Size([19, 300]) torch.Size([17])\n",
      "torch.Size([28, 300]) torch.Size([26])\n",
      "torch.Size([30, 300]) torch.Size([28])\n",
      "torch.Size([21, 300]) torch.Size([19])\n",
      "torch.Size([34, 300]) torch.Size([32])\n",
      "torch.Size([34, 300]) torch.Size([32])\n",
      "torch.Size([45, 300]) torch.Size([43])\n",
      "torch.Size([24, 300]) torch.Size([22])\n",
      "torch.Size([36, 300]) torch.Size([34])\n",
      "torch.Size([33, 300]) torch.Size([31])\n",
      "torch.Size([12, 300]) torch.Size([10])\n",
      "torch.Size([40, 300]) torch.Size([38])\n",
      "torch.Size([28, 300]) torch.Size([26])\n",
      "torch.Size([22, 300]) torch.Size([20])\n",
      "torch.Size([25, 300]) torch.Size([23])\n",
      "torch.Size([30, 300]) torch.Size([28])\n",
      "torch.Size([11, 300]) torch.Size([9])\n",
      "torch.Size([25, 300]) torch.Size([23])\n",
      "torch.Size([51, 300]) torch.Size([49])\n",
      "torch.Size([38, 300]) torch.Size([34])\n",
      "torch.Size([29, 300]) torch.Size([27])\n",
      "torch.Size([29, 300]) torch.Size([27])\n",
      "torch.Size([34, 300]) torch.Size([32])\n",
      "torch.Size([30, 300]) torch.Size([28])\n",
      "torch.Size([57, 300]) torch.Size([55])\n",
      "torch.Size([37, 300]) torch.Size([35])\n",
      "torch.Size([28, 300]) torch.Size([26])\n",
      "torch.Size([18, 300]) torch.Size([16])\n",
      "torch.Size([17, 300]) torch.Size([15])\n",
      "torch.Size([38, 300]) torch.Size([36])\n",
      "torch.Size([37, 300]) torch.Size([35])\n",
      "torch.Size([12, 300]) torch.Size([10])\n",
      "torch.Size([11, 300]) torch.Size([9])\n",
      "torch.Size([17, 300]) torch.Size([15])\n",
      "torch.Size([15, 300]) torch.Size([13])\n",
      "torch.Size([26, 300]) torch.Size([24])\n",
      "torch.Size([25, 300]) torch.Size([23])\n",
      "torch.Size([27, 300]) torch.Size([25])\n",
      "torch.Size([34, 300]) torch.Size([32])\n",
      "torch.Size([12, 300]) torch.Size([10])\n",
      "torch.Size([36, 300]) torch.Size([34])\n",
      "torch.Size([13, 300]) torch.Size([11])\n",
      "torch.Size([38, 300]) torch.Size([36])\n",
      "torch.Size([26, 300]) torch.Size([24])\n",
      "torch.Size([17, 300]) torch.Size([15])\n",
      "torch.Size([30, 300]) torch.Size([28])\n",
      "torch.Size([24, 300]) torch.Size([22])\n",
      "torch.Size([13, 300]) torch.Size([11])\n",
      "torch.Size([19, 300]) torch.Size([17])\n",
      "torch.Size([16, 300]) torch.Size([14])\n",
      "torch.Size([32, 300]) torch.Size([30])\n",
      "torch.Size([29, 300]) torch.Size([27])\n",
      "torch.Size([19, 300]) torch.Size([17])\n",
      "torch.Size([23, 300]) torch.Size([21])\n",
      "torch.Size([34, 300]) torch.Size([32])\n",
      "torch.Size([13, 300]) torch.Size([11])\n",
      "torch.Size([28, 300]) torch.Size([26])\n",
      "torch.Size([33, 300]) torch.Size([31])\n",
      "torch.Size([13, 300]) torch.Size([11])\n",
      "torch.Size([23, 300]) torch.Size([21])\n",
      "torch.Size([36, 300]) torch.Size([34])\n",
      "torch.Size([37, 300]) torch.Size([35])\n",
      "torch.Size([28, 300]) torch.Size([26])\n",
      "torch.Size([33, 300]) torch.Size([31])\n",
      "torch.Size([32, 300]) torch.Size([30])\n",
      "torch.Size([20, 300]) torch.Size([18])\n",
      "torch.Size([28, 300]) torch.Size([26])\n",
      "torch.Size([32, 300]) torch.Size([30])\n",
      "torch.Size([30, 300]) torch.Size([28])\n",
      "torch.Size([45, 300]) torch.Size([43])\n",
      "torch.Size([28, 300]) torch.Size([26])\n",
      "torch.Size([11, 300]) torch.Size([9])\n",
      "torch.Size([45, 300]) torch.Size([43])\n",
      "torch.Size([40, 300]) torch.Size([38])\n",
      "torch.Size([41, 300]) torch.Size([39])\n",
      "torch.Size([20, 300]) torch.Size([18])\n",
      "torch.Size([19, 300]) torch.Size([17])\n",
      "torch.Size([31, 300]) torch.Size([27])\n",
      "torch.Size([35, 300]) torch.Size([33])\n",
      "torch.Size([80, 300]) torch.Size([78])\n",
      "torch.Size([30, 300]) torch.Size([28])\n",
      "torch.Size([36, 300]) torch.Size([34])\n",
      "torch.Size([27, 300]) torch.Size([25])\n",
      "torch.Size([23, 300]) torch.Size([21])\n",
      "torch.Size([42, 300]) torch.Size([40])\n",
      "torch.Size([28, 300]) torch.Size([26])\n",
      "torch.Size([19, 300]) torch.Size([17])\n",
      "torch.Size([20, 300]) torch.Size([18])\n",
      "torch.Size([42, 300]) torch.Size([40])\n",
      "torch.Size([22, 300]) torch.Size([20])\n",
      "torch.Size([33, 300]) torch.Size([31])\n",
      "torch.Size([36, 300]) torch.Size([32])\n",
      "torch.Size([53, 300]) torch.Size([51])\n",
      "torch.Size([58, 300]) torch.Size([56])\n",
      "torch.Size([41, 300]) torch.Size([39])\n",
      "torch.Size([12, 300]) torch.Size([10])\n",
      "torch.Size([30, 300]) torch.Size([28])\n",
      "torch.Size([29, 300]) torch.Size([27])\n",
      "torch.Size([33, 300]) torch.Size([31])\n",
      "torch.Size([22, 300]) torch.Size([20])\n",
      "torch.Size([30, 300]) torch.Size([28])\n",
      "torch.Size([13, 300]) torch.Size([9])\n",
      "torch.Size([40, 300]) torch.Size([38])\n",
      "torch.Size([32, 300]) torch.Size([30])\n",
      "torch.Size([14, 300]) torch.Size([12])\n",
      "torch.Size([16, 300]) torch.Size([14])\n",
      "torch.Size([13, 300]) torch.Size([11])\n",
      "torch.Size([20, 300]) torch.Size([18])\n",
      "torch.Size([21, 300]) torch.Size([19])\n",
      "torch.Size([36, 300]) torch.Size([32])\n",
      "torch.Size([32, 300]) torch.Size([30])\n",
      "torch.Size([40, 300]) torch.Size([38])\n",
      "torch.Size([26, 300]) torch.Size([24])\n",
      "torch.Size([23, 300]) torch.Size([21])\n",
      "torch.Size([12, 300]) torch.Size([10])\n",
      "torch.Size([11, 300]) torch.Size([9])\n",
      "torch.Size([19, 300]) torch.Size([17])\n",
      "torch.Size([41, 300]) torch.Size([39])\n",
      "torch.Size([29, 300]) torch.Size([27])\n",
      "torch.Size([15, 300]) torch.Size([13])\n",
      "torch.Size([33, 300]) torch.Size([31])\n",
      "torch.Size([36, 300]) torch.Size([34])\n",
      "torch.Size([15, 300]) torch.Size([13])\n",
      "torch.Size([31, 300]) torch.Size([29])\n",
      "torch.Size([15, 300]) torch.Size([13])\n",
      "torch.Size([26, 300]) torch.Size([24])\n",
      "torch.Size([29, 300]) torch.Size([27])\n",
      "torch.Size([37, 300]) torch.Size([33])\n",
      "torch.Size([22, 300]) torch.Size([20])\n",
      "torch.Size([30, 300]) torch.Size([28])\n",
      "torch.Size([13, 300]) torch.Size([11])\n",
      "torch.Size([36, 300]) torch.Size([32])\n",
      "torch.Size([19, 300]) torch.Size([17])\n",
      "torch.Size([39, 300]) torch.Size([35])\n",
      "torch.Size([20, 300]) torch.Size([18])\n",
      "torch.Size([36, 300]) torch.Size([34])\n",
      "torch.Size([26, 300]) torch.Size([24])\n",
      "torch.Size([18, 300]) torch.Size([16])\n",
      "torch.Size([72, 300]) torch.Size([70])\n",
      "torch.Size([28, 300]) torch.Size([26])\n",
      "torch.Size([25, 300]) torch.Size([23])\n",
      "torch.Size([27, 300]) torch.Size([25])\n",
      "torch.Size([24, 300]) torch.Size([20])\n",
      "torch.Size([14, 300]) torch.Size([12])\n",
      "torch.Size([12, 300]) torch.Size([10])\n",
      "torch.Size([42, 300]) torch.Size([40])\n",
      "torch.Size([26, 300]) torch.Size([24])\n",
      "torch.Size([30, 300]) torch.Size([26])\n",
      "torch.Size([25, 300]) torch.Size([23])\n",
      "torch.Size([41, 300]) torch.Size([39])\n",
      "torch.Size([26, 300]) torch.Size([24])\n",
      "torch.Size([34, 300]) torch.Size([32])\n",
      "torch.Size([35, 300]) torch.Size([31])\n",
      "torch.Size([26, 300]) torch.Size([24])\n",
      "torch.Size([40, 300]) torch.Size([36])\n",
      "torch.Size([17, 300]) torch.Size([15])\n",
      "torch.Size([62, 300]) torch.Size([60])\n",
      "torch.Size([22, 300]) torch.Size([20])\n",
      "torch.Size([21, 300]) torch.Size([19])\n",
      "torch.Size([45, 300]) torch.Size([43])\n",
      "torch.Size([22, 300]) torch.Size([20])\n",
      "torch.Size([33, 300]) torch.Size([31])\n",
      "torch.Size([12, 300]) torch.Size([10])\n",
      "torch.Size([23, 300]) torch.Size([19])\n",
      "torch.Size([23, 300]) torch.Size([21])\n",
      "torch.Size([17, 300]) torch.Size([15])\n",
      "torch.Size([24, 300]) torch.Size([22])\n",
      "torch.Size([32, 300]) torch.Size([30])\n",
      "torch.Size([26, 300]) torch.Size([24])\n"
     ]
    }
   ],
   "source": [
    "for i in range(len(X_train)):\n",
    "    if X_train[i].size()[0] != Y_train[i].size()[0]:\n",
    "        print(X_train[i].size(), Y_train[i].size())"
   ]
  },
  {
   "cell_type": "code",
   "execution_count": 278,
   "metadata": {},
   "outputs": [
    {
     "data": {
      "text/plain": [
       "tensor([[ 0.2720, -0.0620, -0.1884,  ...,  0.1302, -0.1832,  0.1323],\n",
       "        [-0.1957,  0.0563, -0.0965,  ..., -0.5051,  0.2706, -0.1133],\n",
       "        [-0.2677,  0.1780, -0.2635,  ..., -0.4779,  0.1801, -0.1922],\n",
       "        ...,\n",
       "        [-0.6824,  0.1774,  0.2385,  ..., -0.0626,  0.1545, -0.4020],\n",
       "        [ 0.1113, -0.3562,  0.8055,  ..., -0.1181, -0.0443,  0.3897],\n",
       "        [ 0.0120,  0.2075, -0.1258,  ...,  0.1387, -0.3605, -0.0350]])"
      ]
     },
     "execution_count": 278,
     "metadata": {},
     "output_type": "execute_result"
    }
   ],
   "source": [
    "X_train[0]"
   ]
  },
  {
   "cell_type": "markdown",
   "metadata": {},
   "source": [
    "<div class=\"alert alert-block alert-warning\">\n",
    "<b>Show the completed code to your teacher before proceeding</b>\n",
    "</div>"
   ]
  },
  {
   "cell_type": "markdown",
   "metadata": {},
   "source": [
    "### Task 5 (1 point): Datasets and Padding"
   ]
  },
  {
   "cell_type": "markdown",
   "metadata": {},
   "source": [
    "Again, following along the tutorial, we will wrap our tensors into a `Dataset` and a `DataLoader`.\n",
    "\n",
    "Since our data are not Tensors but rather Lists of Tensors of uneven lengths, we need to write our own Dataset wrapper.\n",
    "The wrapper only needs to implement two functions; `__len__`, which expects no arguments and returns the number of samples in the dataset, and `__getitem__`, which accepts an index `idx` and returns the input-output pair `X[idx]`, `Y[idx]`.\n",
    "\n",
    "Similarly, the Dataloader needs to process the list of input-output pairs produced by the Dataset using `pad_sequence`, as seen earlier."
   ]
  },
  {
   "cell_type": "markdown",
   "metadata": {},
   "source": [
    "Fill in the code for `UnevenLengthDataset` class, implementing its two core functions.\n",
    "\n",
    "<div class=\"alert alert-block alert-info\">\n",
    "If you have no experience creating container-like classes from scratch in Python, refer to the documentation for the <a href=\"https://docs.python.org/3/reference/datamodel.html#special-method-names\">special class methods</a> and for <a href=\"https://docs.python.org/3/reference/datamodel.html#emulating-container-types\">emulating container types</a>. Talk to your teacher if needed.</div>\n",
    "\n",
    "Then, complete the function `pad_batch` which takes a list of \n",
    "(x$_i$, y$_i$) pairs and produces the pair of their paddings: (X, Y).\n",
    "\n",
    "Given the two, the `DataLoader` object can iterate over the Dataset yielding uniform batches ready to be consumed by an RNN."
   ]
  },
  {
   "cell_type": "code",
   "execution_count": 282,
   "metadata": {},
   "outputs": [],
   "source": [
    "from torch.nn.utils.rnn import pad_sequence\n",
    "from torch.utils.data import Dataset, DataLoader\n",
    "from tqdm import trange\n",
    "\n",
    "class UnevenLengthDataset(Dataset):\n",
    "    def __init__(self, X, Y) -> None:\n",
    "        super(UnevenLengthDataset, self).__init__()\n",
    "        self.X = X\n",
    "        self.Y = Y\n",
    "        \n",
    "    def __len__(self) -> int:\n",
    "        return(len(self.X))\n",
    "        \n",
    "    def __getitem__(self, idx: int):\n",
    "        return self.X[idx], self.Y[idx]\n",
    "    \n",
    "def pad_batch(batch):\n",
    "    ansx = []\n",
    "    ansy = []\n",
    "    max_length = max(list(map(lambda X: len(X[0]), batch)))\n",
    "    for i in range(len(batch)):\n",
    "        if batch[i][0].size()[0] == batch[i][1].size()[0]:\n",
    "            ansx.append(batch[i][0])\n",
    "            ansy.append(batch[i][1])\n",
    "    return (pad_sequence(ansx), pad_sequence(ansy))\n",
    "\n",
    "\n",
    "\n",
    "    \n",
    "        \n",
    "train_dataset = UnevenLengthDataset(X_train, Y_train)\n",
    "train_dataloader = DataLoader(\n",
    "    train_dataset, \n",
    "    collate_fn=pad_batch,\n",
    "    shuffle=True,\n",
    "    batch_size=32\n",
    ")\n",
    "\n",
    "val_dataset = UnevenLengthDataset(X_val, Y_val)\n",
    "val_dataloader = DataLoader(\n",
    "    val_dataset,\n",
    "    collate_fn=pad_batch,\n",
    "    shuffle=False,\n",
    "    batch_size=32\n",
    ")"
   ]
  },
  {
   "cell_type": "code",
   "execution_count": 340,
   "metadata": {},
   "outputs": [
    {
     "data": {
      "text/plain": [
       "(torch.Size([46, 32, 300]), torch.Size([46, 32]))"
      ]
     },
     "execution_count": 340,
     "metadata": {},
     "output_type": "execute_result"
    }
   ],
   "source": [
    "train_features, train_labels = next(iter(train_dataloader))\n",
    "train_features.size(), train_labels.size()"
   ]
  },
  {
   "cell_type": "code",
   "execution_count": 284,
   "metadata": {},
   "outputs": [
    {
     "data": {
      "text/plain": [
       "torch.Size([31, 32, 300])"
      ]
     },
     "execution_count": 284,
     "metadata": {},
     "output_type": "execute_result"
    }
   ],
   "source": [
    "train_features.size()"
   ]
  },
  {
   "cell_type": "markdown",
   "metadata": {},
   "source": [
    "What does a batch look like, shape-wise? Use the `train_dataloader` to find out."
   ]
  },
  {
   "cell_type": "code",
   "execution_count": 285,
   "metadata": {},
   "outputs": [
    {
     "data": {
      "text/plain": [
       "<torch.utils.data.dataloader.DataLoader at 0x7f1e71d1ee20>"
      ]
     },
     "execution_count": 285,
     "metadata": {},
     "output_type": "execute_result"
    }
   ],
   "source": [
    "# Your code here\n",
    "train_dataloader"
   ]
  },
  {
   "cell_type": "markdown",
   "metadata": {},
   "source": [
    "<div class=\"alert alert-block alert-warning\">\n",
    "<b>Show the completed code to your teacher before proceeding</b>\n",
    "</div>"
   ]
  },
  {
   "cell_type": "markdown",
   "metadata": {},
   "source": [
    "So far so good. On to the network.\n",
    "\n",
    "### Task 6 (2 points): Utility Functions\n",
    "Remember how we defined our training and validation functions in the tutorial?\n",
    "\n",
    "You will need to do the same here.\n",
    "Note that while you can use the code from the tutorial for guidance, just copying it won't do the trick; unlike a feedforward net, a recurrent network produces a 3rd order output tensor of shape (max_seq_len, batch_size, num_output_classes).\n",
    "\n",
    "Similarly, our target Y is a 2nd order tensor of shape (max_seq_len, batch_size).\n",
    "\n",
    "You will need to properly treat the extra dimension of both the output and the target, since loss functions expect an order 2 output tensor and an order 1 target tensor. "
   ]
  },
  {
   "cell_type": "markdown",
   "metadata": {},
   "source": [
    "The functions `accuracy` and `measure_accurace`, which will be needed during evaluation, are already provided to you. "
   ]
  },
  {
   "cell_type": "code",
   "execution_count": 286,
   "metadata": {},
   "outputs": [],
   "source": [
    "def accuracy(predictions: LongTensor, truth: LongTensor, ignore_idx: int) -> Tuple[int, int]:\n",
    "    \"\"\"\n",
    "    Compute the total count of non-ignored values and total count of correctly predicted values.\n",
    "        \n",
    "    :param predictions: the network's predictions\n",
    "    :param truth: the true output labels\n",
    "    :param ignore_idx: the output padding value, to be ignored in accuracy calculation\n",
    "    :return: the total count of non-ignored values, the total count of correctly predicted values\n",
    "    \"\"\"\n",
    "    correct_words = torch.ones(predictions.size())\n",
    "    # Zero out the incorrectly predicted values.\n",
    "    correct_words[predictions != truth] = 0\n",
    "    # Mark with 1 the values that need to be ignored.\n",
    "    correct_words[truth == ignore_idx] = 1\n",
    "    # Calculate the total count of correctly predicted values, incl. the ignored ones.\n",
    "    num_correct_words = correct_words.sum().item()\n",
    "    # Calculate the number of the values to be ignored.\n",
    "    num_masked_words = len(truth[truth == ignore_idx])\n",
    "    #\n",
    "    count_non_ignored = predictions.shape[0] * predictions.shape[1] - num_masked_words\n",
    "    count_correct = num_correct_words - num_masked_words\n",
    "    return count_non_ignored, count_correct\n",
    "\n",
    "\n",
    "def measure_accuracy(network: torch.nn.Module, dataloader: DataLoader, device: str) -> float:\n",
    "    \"\"\"\n",
    "    Compute the network's accuracy across all batches.\n",
    "    \n",
    "    :param network: the trained network\n",
    "    :param dataloader: the dataloader for the validation data\n",
    "    :param device: the device to store the data on (\"cpu\" or \"cuda\")\n",
    "    :return: the network's accuracy\n",
    "    \"\"\"13\n",
    "    correct = 0\n",
    "    total = 0\n",
    "    # Iterate over the batches.\n",
    "    for x_batch, y_batch in dataloader:\n",
    "        # Get the network predictions.\n",
    "        pred = network(x_batch.to(device))\n",
    "        # Compute the values to measure accuracy for the current batch.\n",
    "        local_total, local_correct = accuracy(pred.argmax(dim=-1), y_batch.to(device), ignore_idx=0)\n",
    "        # Update the total counts.\n",
    "        correct += local_correct\n",
    "        total += local_total\n",
    "    # Compute the final accuracy across all batches.\n",
    "    acc = correct/total\n",
    "    return acc"
   ]
  },
  {
   "cell_type": "markdown",
   "metadata": {},
   "source": [
    "Complete the functions `train_batch`, `train_epoch`, `eval_batch` and `eval_epoch`."
   ]
  },
  {
   "cell_type": "code",
   "execution_count": 321,
   "metadata": {},
   "outputs": [],
   "source": [
    "def train_batch(\n",
    "    network: torch.nn.Module,\n",
    "    X_batch: FloatTensor,\n",
    "    Y_batch: LongTensor,\n",
    "    loss_fn: Callable[[FloatTensor, FloatTensor], FloatTensor],  \n",
    "    optimizer: torch.optim.Optimizer\n",
    ") -> float:\n",
    "    network.train()\n",
    "    # Train.\n",
    "    prediction_batch = network(X_batch)  # forward pass\n",
    "    x = prediction_batch.view(Y_batch.view(-1).size()[0], -1) #flatten\n",
    "    y = Y_batch.view(-1)\n",
    "    batch_loss = loss_fn(x, y)  # loss calculation\n",
    "    batch_loss.backward()  # gradient computation\n",
    "    optimizer.step()  # back-propagation\n",
    "    optimizer.zero_grad()  # gradient reset\n",
    "\n",
    "    return batch_loss.item()\n",
    "    \n",
    "\n",
    "def train_epoch(\n",
    "    network: torch.nn.Module, \n",
    "    dataloader: DataLoader,\n",
    "    loss_fn: Callable[[FloatTensor, FloatTensor], FloatTensor],\n",
    "    optimizer: torch.optim.Optimizer, \n",
    "    device: str\n",
    ") -> float:\n",
    "    loss = 0.\n",
    "    # Iterate over the batches in the dataloader.\n",
    "    for i, (x_batch, y_batch) in enumerate(dataloader):\n",
    "        x_batch = x_batch.to(device)  # convert back to your chosen device\n",
    "        y_batch = y_batch.to(device)\n",
    "        loss += train_batch(\n",
    "            network=network, X_batch=x_batch, Y_batch=y_batch, loss_fn=loss_fn, optimizer=optimizer\n",
    "        )\n",
    "    loss /= (i+1) # divide the loss by the number of batches for consistency \n",
    "    return loss\n",
    "\n",
    "def eval_batch(\n",
    "    network: torch.nn.Module,\n",
    "    X_batch: FloatTensor,\n",
    "    Y_batch: LongTensor,\n",
    "    loss_fn: Callable[[FloatTensor, LongTensor], FloatTensor]\n",
    ") -> float:\n",
    "    network.eval()\n",
    "    prediction_batch = network(X_batch)  # forward pass\n",
    "    batch_loss = loss_fn(prediction_batch.view(-1), Y_batch)  # loss calculation\n",
    "    return batch_loss.item()\n",
    "\n",
    "def eval_epoch(\n",
    "    network: torch.nn.Module, \n",
    "    dataloader: DataLoader,\n",
    "    loss_fn: Callable[[FloatTensor, LongTensor], FloatTensor],\n",
    "    device: str\n",
    ") -> float: \n",
    "    return measure_accuracy(network, dataloader, device)\n"
   ]
  },
  {
   "cell_type": "markdown",
   "metadata": {},
   "source": [
    "<div class=\"alert alert-block alert-warning\">\n",
    "<b>Show the completed code to your teacher before proceeding</b>\n",
    "</div>"
   ]
  },
  {
   "cell_type": "markdown",
   "metadata": {},
   "source": [
    "### Task 7 (2 points): SRN POS tagging\n",
    "Define a simple recurrent network, with input size compatible with the vector dimensionality, output size compatible with the number of output classes (the number of different POS tags + 1) and a hidden size of your own choice."
   ]
  },
  {
   "cell_type": "markdown",
   "metadata": {},
   "source": [
    "Use `\"tanh\"` as your hidden layer activation, and choose **an appropriate combination of output activation and loss function** (consider the task at hand and refer to the documentation or the tutorial if in doubt).\n",
    "\n",
    "Then instantiate an optimizer over your network and train the network for a number of epochs, measuring and printing all metrics in the process (train and validation loss and accuracy).\n",
    "\n",
    "_Hint_: Use `measure_accuracy` (defined earlier) to obtain accuracy.\n",
    "\n",
    "Plot the loss and accuracy curves over the training process."
   ]
  },
  {
   "cell_type": "code",
   "execution_count": 342,
   "metadata": {},
   "outputs": [],
   "source": [
    "from torch.autograd import Variable\n",
    "class RNNModel(torch.nn.Module):\n",
    "    def __init__(self, input_dim, hidden_dim, layer_dim, output_dim):\n",
    "        super(RNNModel, self).__init__()\n",
    "        # Number of hidden dimensions\n",
    "        self.hidden_dim = hidden_dim\n",
    "        # Number of hidden layers\n",
    "        self.layer_dim = layer_dim\n",
    "        # RNN\n",
    "        self.rnn = torch.nn.RNN(input_dim, hidden_dim, layer_dim, batch_first=True, nonlinearity='tanh')\n",
    "        # Readout layer\n",
    "        self.fc = torch.nn.Linear(hidden_dim, output_dim)\n",
    "    def forward(self, x):\n",
    "        # Initialize hidden state with zeros\n",
    "        h0 = Variable(torch.zeros(self.layer_dim, x.size(0), self.hidden_dim))\n",
    "        out, hn = self.rnn(x, h0)\n",
    "        out = self.fc(out[:, :, :])\n",
    "        return torch.nn.Softmax(dim = 1)(out)\n",
    "    \n",
    "srn = RNNModel(input_dim = 300,\n",
    "        hidden_dim = 500,\n",
    "        layer_dim = 2,\n",
    "        output_dim = 48) #postags\n",
    "loss_fn = torch.nn.CrossEntropyLoss()\n",
    "opt = torch.optim.Adam(srn.parameters(), lr=0.001)"
   ]
  },
  {
   "cell_type": "code",
   "execution_count": null,
   "metadata": {},
   "outputs": [],
   "source": []
  },
  {
   "cell_type": "code",
   "execution_count": 343,
   "metadata": {},
   "outputs": [],
   "source": [
    "x = x_batch.view(y_batch.view(-1).size()[0], -1)\n",
    "y = y_batch.view(-1)"
   ]
  },
  {
   "cell_type": "code",
   "execution_count": 344,
   "metadata": {},
   "outputs": [
    {
     "data": {
      "text/plain": [
       "tensor([[-2.5250e-01, -4.1171e-01, -4.0406e-01],\n",
       "        [ 8.9187e-02,  2.5792e-01,  2.6282e-01],\n",
       "        [-2.7523e-01, -3.8723e-01,  3.1627e-01],\n",
       "        [ 4.7508e-02, -1.2604e-01, -2.0375e-01],\n",
       "        [ 8.5181e-02,  5.0892e-01, -8.8280e-02],\n",
       "        [ 1.8733e-01,  4.0595e-01, -5.1174e-01],\n",
       "        [ 2.7204e-01, -6.2030e-02, -1.8840e-01],\n",
       "        [-8.2752e-02,  6.7204e-01, -1.4987e-01],\n",
       "        [ 2.8876e-01, -5.5541e-01,  8.3178e-02],\n",
       "        [-3.3281e-01, -3.2433e-01,  2.9303e-01],\n",
       "        [ 2.7204e-01, -6.2030e-02, -1.8840e-01],\n",
       "        [-2.7903e-01,  7.7040e-01, -1.4395e-01],\n",
       "        [ 4.9006e-02,  3.8069e-02, -3.7440e-01],\n",
       "        [-5.1405e-01,  3.1942e-01, -1.0354e-01],\n",
       "        [ 4.3798e-02,  2.4779e-02, -2.0937e-01],\n",
       "        [-3.8601e-02,  5.3972e-01, -1.6375e-01],\n",
       "        [ 8.7460e-03,  3.3214e-01, -2.9175e-01],\n",
       "        [-5.8041e-02, -4.4507e-02, -1.1891e-01],\n",
       "        [ 4.3798e-02,  2.4779e-02, -2.0937e-01],\n",
       "        [ 1.3629e-03,  3.5653e-01, -5.5497e-02],\n",
       "        [-4.4058e-02,  3.6611e-01,  1.8032e-01],\n",
       "        [-2.6657e-01, -1.3717e-01,  2.3549e-01],\n",
       "        [-8.2752e-02,  6.7204e-01, -1.4987e-01],\n",
       "        [-4.8944e-01,  5.5362e-01,  4.4625e-01],\n",
       "        [ 3.4016e-01,  1.2532e-02, -1.7332e-01],\n",
       "        [ 1.1459e-01,  3.7628e-01, -4.4461e-01],\n",
       "        [ 5.4071e-02,  1.1110e-01, -1.4557e-01],\n",
       "        [ 3.4066e-01, -4.2622e-01,  1.9136e-01],\n",
       "        [-7.2319e-01,  1.1735e-01,  3.9432e-01],\n",
       "        [ 2.7204e-01, -6.2030e-02, -1.8840e-01],\n",
       "        [ 0.0000e+00,  0.0000e+00,  0.0000e+00],\n",
       "        [ 0.0000e+00,  0.0000e+00,  0.0000e+00],\n",
       "        [-1.7998e-01, -3.6508e-02,  5.8212e-02],\n",
       "        [ 6.0216e-02,  2.1799e-01, -4.2490e-02],\n",
       "        [-1.5552e-01, -3.3723e-01, -9.7191e-02],\n",
       "        [ 2.7204e-01, -6.2030e-02, -1.8840e-01],\n",
       "        [-2.4919e-01,  1.4192e-02,  5.4524e-01],\n",
       "        [-1.2575e+00,  7.1648e-01, -6.5293e-02],\n",
       "        [-1.8567e-01,  6.6008e-02, -2.5209e-01],\n",
       "        [ 6.0216e-02,  2.1799e-01, -4.2490e-02],\n",
       "        [ 2.7204e-01, -6.2030e-02, -1.8840e-01],\n",
       "        [ 2.7204e-01, -6.2030e-02, -1.8840e-01],\n",
       "        [-4.8385e-01, -2.2614e-01, -2.0815e-01],\n",
       "        [-5.6877e-01, -2.9359e-01,  5.6444e-01],\n",
       "        [-5.9529e-01,  8.2830e-01, -7.1671e-02],\n",
       "        [-2.7939e-02,  3.5628e-01,  6.5256e-01],\n",
       "        [ 2.8059e-01, -4.5684e-01,  4.1400e-01],\n",
       "        [-1.0286e+00, -4.2619e-01,  1.2159e-01],\n",
       "        [ 9.2379e-02, -1.9287e-01, -1.3342e-01],\n",
       "        [-3.6615e-02, -5.9621e-01, -2.5919e-02],\n",
       "        [ 1.0141e+00, -1.6721e-01,  2.2546e-01],\n",
       "        [-8.2752e-02,  6.7204e-01, -1.4987e-01],\n",
       "        [-2.0590e-01, -1.3630e-01,  3.4976e-02],\n",
       "        [ 3.5041e-01,  1.9459e-01, -4.1846e-01],\n",
       "        [-3.5306e-02,  1.3536e-01, -2.0565e-01],\n",
       "        [ 6.0216e-02,  2.1799e-01, -4.2490e-02],\n",
       "        [ 8.0680e-02,  2.2096e-01,  4.1026e-02],\n",
       "        [-1.7224e-01,  1.8234e-01, -2.7847e-01],\n",
       "        [-4.8944e-01,  5.5362e-01,  4.4625e-01],\n",
       "        [-1.7570e-01, -6.1982e-02, -8.5616e-02],\n",
       "        [ 2.7204e-01, -6.2030e-02, -1.8840e-01],\n",
       "        [ 6.0216e-02,  2.1799e-01, -4.2490e-02],\n",
       "        [ 2.7204e-01, -6.2030e-02, -1.8840e-01],\n",
       "        [ 4.3798e-02,  2.4779e-02, -2.0937e-01],\n",
       "        [-6.8173e-01, -6.9996e-04, -4.0544e-01],\n",
       "        [ 0.0000e+00,  0.0000e+00,  0.0000e+00],\n",
       "        [ 3.5670e-02,  1.8560e-01, -3.0552e-01],\n",
       "        [-8.7778e-01,  1.6295e-01,  2.2689e-01],\n",
       "        [ 2.7204e-01, -6.2030e-02, -1.8840e-01],\n",
       "        [ 6.3322e-03, -8.2673e-01,  6.7191e-02],\n",
       "        [-5.2356e-01, -1.0926e-01,  4.3732e-03],\n",
       "        [-3.6769e-01,  5.9821e-01,  1.3229e-01],\n",
       "        [-1.2575e+00,  7.1648e-01, -6.5293e-02],\n",
       "        [ 4.1220e-02,  1.2696e-01, -1.4441e-01],\n",
       "        [-8.8059e-01,  8.1727e-01, -2.5252e-01],\n",
       "        [ 1.5196e-01,  2.1342e-01,  7.1828e-01],\n",
       "        [ 2.1632e-01, -4.1758e-02,  5.9879e-01],\n",
       "        [ 2.6558e-01,  2.2150e-01,  2.9341e-01],\n",
       "        [ 0.0000e+00,  0.0000e+00,  0.0000e+00],\n",
       "        [-1.0453e+00,  6.5426e-01,  2.7493e-01],\n",
       "        [ 3.3535e-01,  1.9601e-01, -6.7357e-02],\n",
       "        [-1.8567e-01,  6.6008e-02, -2.5209e-01],\n",
       "        [ 1.5936e-01,  4.1919e-03,  1.4857e-01],\n",
       "        [-2.1655e-01, -1.5179e-01,  6.1806e-01],\n",
       "        [-1.8567e-01,  6.6008e-02, -2.5209e-01],\n",
       "        [-5.6157e-01, -1.6647e-01,  8.9338e-01],\n",
       "        [-8.2752e-02,  6.7204e-01, -1.4987e-01],\n",
       "        [-8.2752e-02,  6.7204e-01, -1.4987e-01],\n",
       "        [ 9.8520e-02,  2.5001e-01, -2.7018e-01],\n",
       "        [-8.2752e-02,  6.7204e-01, -1.4987e-01],\n",
       "        [ 0.0000e+00,  0.0000e+00,  0.0000e+00],\n",
       "        [-4.0534e-01,  4.7027e-01, -6.6601e-02],\n",
       "        [-8.2752e-02,  6.7204e-01, -1.4987e-01],\n",
       "        [-4.8944e-01,  5.5362e-01,  4.4625e-01],\n",
       "        [ 0.0000e+00,  0.0000e+00,  0.0000e+00],\n",
       "        [-1.7442e-01,  3.5152e-01, -1.0524e-03],\n",
       "        [ 8.5181e-02,  5.0892e-01, -8.8280e-02],\n",
       "        [ 3.1924e-01,  6.3160e-02, -2.7858e-01],\n",
       "        [-7.2319e-01,  1.1735e-01,  3.9432e-01],\n",
       "        [-9.6463e-02,  1.2389e-01, -2.8605e-01],\n",
       "        [ 0.0000e+00,  0.0000e+00,  0.0000e+00],\n",
       "        [ 2.7165e-02,  2.9879e-01, -1.9263e-02],\n",
       "        [ 1.6718e-01,  3.0593e-01, -1.3682e-01],\n",
       "        [-4.2420e-01,  6.5344e-01, -7.7443e-02],\n",
       "        [ 2.7204e-01, -6.2030e-02, -1.8840e-01],\n",
       "        [-2.2952e-01,  2.5884e-01,  2.9646e-01],\n",
       "        [ 1.3320e-02, -5.1085e-02, -1.3207e-01],\n",
       "        [-1.2575e+00,  7.1648e-01, -6.5293e-02],\n",
       "        [-9.2166e-02, -4.2546e-02, -2.2832e-01],\n",
       "        [-4.9291e-02,  2.0483e-01, -1.2808e-01],\n",
       "        [ 1.2001e-02,  2.0751e-01, -1.2578e-01],\n",
       "        [-5.4057e-02, -3.4330e-02,  2.4601e-01],\n",
       "        [-8.2752e-02,  6.7204e-01, -1.4987e-01],\n",
       "        [ 2.0112e-01,  5.8798e-01,  1.7921e-01],\n",
       "        [ 2.0900e-01,  1.2066e-01, -5.1692e-01],\n",
       "        [ 3.1924e-01,  6.3160e-02, -2.7858e-01],\n",
       "        [-5.9177e-02,  1.0653e-01, -2.1613e-01],\n",
       "        [ 0.0000e+00,  0.0000e+00,  0.0000e+00],\n",
       "        [-4.4816e-01,  2.7470e-01,  4.0781e-01],\n",
       "        [ 4.7508e-02, -1.2604e-01, -2.0375e-01],\n",
       "        [-6.8580e-02,  4.6470e-01,  1.3214e-01],\n",
       "        [ 2.4568e-01,  4.6009e-01, -3.5158e-01],\n",
       "        [-2.6462e-01,  5.9704e-01,  6.9079e-01],\n",
       "        [-2.4889e-01,  1.8419e-01, -2.6964e-01],\n",
       "        [ 0.0000e+00,  0.0000e+00,  0.0000e+00],\n",
       "        [-3.0312e-02,  2.3239e-01,  9.0369e-01],\n",
       "        [ 2.7204e-01, -6.2030e-02, -1.8840e-01],\n",
       "        [ 2.8876e-01, -5.5541e-01,  8.3178e-02],\n",
       "        [-1.3770e-01,  8.5753e-02,  2.1672e-01],\n",
       "        [ 2.2866e-01,  6.4121e-01,  1.9093e-01],\n",
       "        [ 2.8059e-01, -4.5684e-01,  4.1400e-01],\n",
       "        [ 0.0000e+00,  0.0000e+00,  0.0000e+00],\n",
       "        [ 1.2001e-02,  2.0751e-01, -1.2578e-01],\n",
       "        [ 6.5734e-01,  1.5723e-02,  5.4131e-02],\n",
       "        [ 4.3323e-01, -5.0544e-02, -4.1795e-01],\n",
       "        [-8.2752e-02,  6.7204e-01, -1.4987e-01],\n",
       "        [-3.8181e-01,  2.1368e-01, -1.3378e-01],\n",
       "        [ 3.1924e-01,  6.3160e-02, -2.7858e-01],\n",
       "        [ 0.0000e+00,  0.0000e+00,  0.0000e+00],\n",
       "        [ 0.0000e+00,  0.0000e+00,  0.0000e+00],\n",
       "        [-1.8567e-01,  6.6008e-02, -2.5209e-01],\n",
       "        [ 6.0216e-02,  2.1799e-01, -4.2490e-02],\n",
       "        [-4.8944e-01,  5.5362e-01,  4.4625e-01],\n",
       "        [ 3.1656e-01,  2.4477e-01, -9.1649e-02],\n",
       "        [-3.3308e-02,  4.5037e-01,  1.0592e-01],\n",
       "        [ 0.0000e+00,  0.0000e+00,  0.0000e+00],\n",
       "        [ 0.0000e+00,  0.0000e+00,  0.0000e+00],\n",
       "        [-1.6631e-01,  2.3729e-01,  7.7443e-02],\n",
       "        [-6.7038e-01, -7.0753e-02,  3.9734e-01],\n",
       "        [ 0.0000e+00,  0.0000e+00,  0.0000e+00],\n",
       "        [-2.7939e-02,  3.5628e-01,  6.5256e-01],\n",
       "        [-7.8711e-02,  8.9265e-02, -5.6145e-01],\n",
       "        [ 0.0000e+00,  0.0000e+00,  0.0000e+00],\n",
       "        [ 0.0000e+00,  0.0000e+00,  0.0000e+00],\n",
       "        [ 1.2060e-01,  1.4264e-01, -1.5579e-01],\n",
       "        [-5.6157e-01, -1.6647e-01,  8.9338e-01],\n",
       "        [-1.2575e+00,  7.1648e-01, -6.5293e-02],\n",
       "        [-2.0590e-01, -1.3630e-01,  3.4976e-02],\n",
       "        [ 1.2867e-01, -3.7550e-01,  9.4040e-02],\n",
       "        [ 0.0000e+00,  0.0000e+00,  0.0000e+00],\n",
       "        [ 0.0000e+00,  0.0000e+00,  0.0000e+00],\n",
       "        [-1.2405e-01,  6.1105e-02, -1.5319e-01],\n",
       "        [ 1.2001e-02,  2.0751e-01, -1.2578e-01],\n",
       "        [ 4.0540e-02, -1.4807e-01,  3.2436e-01],\n",
       "        [ 2.0690e-01,  4.4321e-01, -1.2522e-01],\n",
       "        [-3.6054e-02,  6.0054e-02,  4.4690e-02],\n",
       "        [ 0.0000e+00,  0.0000e+00,  0.0000e+00],\n",
       "        [ 0.0000e+00,  0.0000e+00,  0.0000e+00],\n",
       "        [-4.5757e-01,  2.1399e-01, -1.4695e-01],\n",
       "        [ 0.0000e+00,  0.0000e+00,  0.0000e+00],\n",
       "        [ 1.2001e-02,  2.0751e-01, -1.2578e-01],\n",
       "        [-1.0234e-01, -1.5939e-01, -1.3714e-01],\n",
       "        [ 2.7204e-01, -6.2030e-02, -1.8840e-01],\n",
       "        [ 0.0000e+00,  0.0000e+00,  0.0000e+00],\n",
       "        [ 0.0000e+00,  0.0000e+00,  0.0000e+00],\n",
       "        [-1.6462e-01,  5.8557e-02, -4.7166e-01],\n",
       "        [ 0.0000e+00,  0.0000e+00,  0.0000e+00],\n",
       "        [ 0.0000e+00,  0.0000e+00,  0.0000e+00],\n",
       "        [-2.6180e-01, -9.9476e-02, -1.0269e-01],\n",
       "        [-2.1789e-01, -1.3029e-01,  5.6767e-01],\n",
       "        [ 0.0000e+00,  0.0000e+00,  0.0000e+00],\n",
       "        [ 0.0000e+00,  0.0000e+00,  0.0000e+00],\n",
       "        [ 3.1924e-01,  6.3160e-02, -2.7858e-01],\n",
       "        [ 0.0000e+00,  0.0000e+00,  0.0000e+00],\n",
       "        [ 0.0000e+00,  0.0000e+00,  0.0000e+00],\n",
       "        [-1.5473e-02, -3.5267e-01, -6.1217e-01],\n",
       "        [-1.6630e-01,  3.3726e-01,  9.1914e-01],\n",
       "        [ 0.0000e+00,  0.0000e+00,  0.0000e+00],\n",
       "        [ 0.0000e+00,  0.0000e+00,  0.0000e+00],\n",
       "        [-7.8779e-02, -3.9294e-01, -1.1003e-01],\n",
       "        [ 0.0000e+00,  0.0000e+00,  0.0000e+00],\n",
       "        [ 0.0000e+00,  0.0000e+00,  0.0000e+00],\n",
       "        [ 2.4595e-01,  3.2692e-01, -1.5563e-01],\n",
       "        [-1.4185e-02,  6.2844e-02, -1.3424e-01],\n",
       "        [ 0.0000e+00,  0.0000e+00,  0.0000e+00],\n",
       "        [ 0.0000e+00,  0.0000e+00,  0.0000e+00],\n",
       "        [-2.6316e-01,  3.2151e-01, -4.3441e-01],\n",
       "        [ 0.0000e+00,  0.0000e+00,  0.0000e+00],\n",
       "        [ 0.0000e+00,  0.0000e+00,  0.0000e+00],\n",
       "        [ 8.9187e-02,  2.5792e-01,  2.6282e-01],\n",
       "        [-1.8030e-01, -8.1809e-01, -5.9524e-01],\n",
       "        [ 0.0000e+00,  0.0000e+00,  0.0000e+00],\n",
       "        [ 0.0000e+00,  0.0000e+00,  0.0000e+00],\n",
       "        [ 2.7204e-01, -6.2030e-02, -1.8840e-01],\n",
       "        [ 0.0000e+00,  0.0000e+00,  0.0000e+00],\n",
       "        [ 0.0000e+00,  0.0000e+00,  0.0000e+00],\n",
       "        [ 3.6049e-01,  1.9520e-01,  4.1292e-01],\n",
       "        [ 1.2001e-02,  2.0751e-01, -1.2578e-01],\n",
       "        [ 0.0000e+00,  0.0000e+00,  0.0000e+00],\n",
       "        [ 0.0000e+00,  0.0000e+00,  0.0000e+00],\n",
       "        [-3.6408e-01,  4.4205e-02, -1.9654e-01],\n",
       "        [ 0.0000e+00,  0.0000e+00,  0.0000e+00],\n",
       "        [ 0.0000e+00,  0.0000e+00,  0.0000e+00],\n",
       "        [ 3.6261e-01,  1.8983e-01,  5.8159e-02],\n",
       "        [ 0.0000e+00,  0.0000e+00,  0.0000e+00],\n",
       "        [ 0.0000e+00,  0.0000e+00,  0.0000e+00],\n",
       "        [ 0.0000e+00,  0.0000e+00,  0.0000e+00],\n",
       "        [ 5.1366e-01, -3.7667e-01, -4.5061e-02],\n",
       "        [ 0.0000e+00,  0.0000e+00,  0.0000e+00],\n",
       "        [ 0.0000e+00,  0.0000e+00,  0.0000e+00],\n",
       "        [-8.2752e-02,  6.7204e-01, -1.4987e-01],\n",
       "        [ 0.0000e+00,  0.0000e+00,  0.0000e+00],\n",
       "        [ 0.0000e+00,  0.0000e+00,  0.0000e+00],\n",
       "        [ 0.0000e+00,  0.0000e+00,  0.0000e+00],\n",
       "        [ 1.2001e-02,  2.0751e-01, -1.2578e-01],\n",
       "        [ 0.0000e+00,  0.0000e+00,  0.0000e+00],\n",
       "        [ 0.0000e+00,  0.0000e+00,  0.0000e+00],\n",
       "        [ 0.0000e+00,  0.0000e+00,  0.0000e+00],\n",
       "        [ 0.0000e+00,  0.0000e+00,  0.0000e+00],\n",
       "        [ 0.0000e+00,  0.0000e+00,  0.0000e+00],\n",
       "        [ 0.0000e+00,  0.0000e+00,  0.0000e+00],\n",
       "        [ 0.0000e+00,  0.0000e+00,  0.0000e+00],\n",
       "        [ 0.0000e+00,  0.0000e+00,  0.0000e+00],\n",
       "        [ 0.0000e+00,  0.0000e+00,  0.0000e+00],\n",
       "        [-2.7903e-01,  7.7040e-01, -1.4395e-01],\n",
       "        [ 0.0000e+00,  0.0000e+00,  0.0000e+00],\n",
       "        [ 0.0000e+00,  0.0000e+00,  0.0000e+00],\n",
       "        [ 0.0000e+00,  0.0000e+00,  0.0000e+00],\n",
       "        [ 0.0000e+00,  0.0000e+00,  0.0000e+00],\n",
       "        [ 0.0000e+00,  0.0000e+00,  0.0000e+00],\n",
       "        [ 0.0000e+00,  0.0000e+00,  0.0000e+00],\n",
       "        [ 1.2001e-02,  2.0751e-01, -1.2578e-01],\n",
       "        [ 0.0000e+00,  0.0000e+00,  0.0000e+00],\n",
       "        [ 0.0000e+00,  0.0000e+00,  0.0000e+00],\n",
       "        [ 0.0000e+00,  0.0000e+00,  0.0000e+00]])"
      ]
     },
     "execution_count": 344,
     "metadata": {},
     "output_type": "execute_result"
    }
   ],
   "source": [
    "x[:, :3]"
   ]
  },
  {
   "cell_type": "code",
   "execution_count": 345,
   "metadata": {},
   "outputs": [
    {
     "data": {
      "text/plain": [
       "tensor(5.7426)"
      ]
     },
     "execution_count": 345,
     "metadata": {},
     "output_type": "execute_result"
    }
   ],
   "source": [
    "loss = torch.nn.CrossEntropyLoss()\n",
    "loss(x, y)"
   ]
  },
  {
   "cell_type": "code",
   "execution_count": 346,
   "metadata": {},
   "outputs": [],
   "source": [
    "\n",
    "for i, (x_batch, y_batch) in enumerate(train_dataloader):\n",
    "    x_batch = x_batch.to(device)  # convert back to your chosen device\n",
    "    y_batch = y_batch.to(device)\n",
    "    x = srn(x_batch)\n",
    "    y = y_batch\n",
    "    if x.size()[0] > y.size()[0]:\n",
    "        print('shit')\n",
    "        "
   ]
  },
  {
   "cell_type": "code",
   "execution_count": 347,
   "metadata": {
    "scrolled": false
   },
   "outputs": [
    {
     "name": "stdout",
     "output_type": "stream",
     "text": [
      "Epoch: 1/20............. Loss: 3.6569\n",
      "Epoch: 2/20............. Loss: 3.6413\n",
      "Epoch: 3/20............. Loss: 3.6386\n",
      "Epoch: 4/20............. Loss: 3.6395\n",
      "Epoch: 5/20............. Loss: 3.6378\n",
      "Epoch: 6/20............. Loss: 3.6380\n",
      "Epoch: 7/20............. Loss: 3.6362\n",
      "Epoch: 8/20............. Loss: 3.6366\n",
      "Epoch: 9/20............. Loss: 3.6375\n",
      "Epoch: 10/20............. Loss: 3.6367\n",
      "Epoch: 11/20............. Loss: 3.6369\n",
      "Epoch: 12/20............. Loss: 3.6366\n",
      "Epoch: 13/20............. Loss: 3.6366\n",
      "Epoch: 14/20............. Loss: 3.6361\n",
      "Epoch: 15/20............. Loss: 3.6351\n",
      "Epoch: 16/20............. Loss: 3.6354\n",
      "Epoch: 17/20............. Loss: 3.6365\n",
      "Epoch: 18/20............. Loss: 3.6357\n",
      "Epoch: 19/20............. Loss: 3.6352\n",
      "Epoch: 20/20............. Loss: 3.6355\n"
     ]
    }
   ],
   "source": [
    "# Your training script here\n",
    "n_epochs = 20\n",
    "optimizer = opt\n",
    "model = srn\n",
    "losses = []\n",
    "accs = []\n",
    "device = 'cpu'\n",
    "for epoch in range(1, n_epochs + 1):\n",
    "    loss = train_epoch(model, train_dataloader, loss_fn, optimizer, 'cpu')\n",
    "    acc = eval_epoch(model, train_dataloader, loss_fn, 'cpu')\n",
    "    losses.append(loss)\n",
    "    accs.append(acc)\n",
    "    print('Epoch: {}/{}.............'.format(epoch, n_epochs), end=' ')\n",
    "    print(\"Loss: {:.4f}\".format(loss))"
   ]
  },
  {
   "cell_type": "code",
   "execution_count": 348,
   "metadata": {},
   "outputs": [
    {
     "data": {
      "text/plain": [
       "[<matplotlib.lines.Line2D at 0x7f1ec0525fd0>]"
      ]
     },
     "execution_count": 348,
     "metadata": {},
     "output_type": "execute_result"
    },
    {
     "data": {
      "image/png": "[encoded data removed]",
      "text/plain": [
       "<Figure size 432x288 with 1 Axes>"
      ]
     },
     "metadata": {
      "needs_background": "light"
     },
     "output_type": "display_data"
    }
   ],
   "source": [
    "import matplotlib.pyplot\n",
    "plt.plot(losses)"
   ]
  },
  {
   "cell_type": "code",
   "execution_count": 349,
   "metadata": {},
   "outputs": [
    {
     "data": {
      "text/plain": [
       "[<matplotlib.lines.Line2D at 0x7f1ce91f0df0>]"
      ]
     },
     "execution_count": 349,
     "metadata": {},
     "output_type": "execute_result"
    },
    {
     "data": {
      "image/png": "[encoded data removed]",
      "text/plain": [
       "<Figure size 432x288 with 1 Axes>"
      ]
     },
     "metadata": {
      "needs_background": "light"
     },
     "output_type": "display_data"
    }
   ],
   "source": [
    "# Your loss plotting here\n",
    "import matplotlib.pyplot\n",
    "plt.plot(accs)"
   ]
  },
  {
   "cell_type": "code",
   "execution_count": null,
   "metadata": {},
   "outputs": [],
   "source": [
    "# Your accuracy plotting here\n",
    "\n",
    "NotImplemented"
   ]
  },
  {
   "cell_type": "markdown",
   "metadata": {},
   "source": [
    "The test accuracy on this task should be well over 90%. If you are getting an accuracy much below this, check your code, play with your hyperparameters and try to improve."
   ]
  },
  {
   "cell_type": "markdown",
   "metadata": {},
   "source": [
    "<div class=\"alert alert-block alert-warning\">\n",
    "<b>Show the completed code to your teacher before proceeding</b>\n",
    "</div>"
   ]
  },
  {
   "cell_type": "markdown",
   "metadata": {},
   "source": [
    "### Task 8 (2 points): Error analysis\n",
    "Find 2-4 sentences where the network predicted wrong POS tags. For at least 2 of the mistakes, make suggestions as to why they were made. Refer to the [documentation](https://www.ling.upenn.edu/courses/Fall_2003/ling001/penn_treebank_pos.html) for the POS tag descriptions."
   ]
  },
  {
   "cell_type": "code",
   "execution_count": null,
   "metadata": {},
   "outputs": [],
   "source": []
  },
  {
   "cell_type": "markdown",
   "metadata": {},
   "source": [
    "### Task 9 (2 points): Extended error analysis\n",
    "\n",
    "What are the most commonly confused pairs of POS tags (select the top 3-5 pairs)? Provide illustrations from the data and make suggestions as to why these tag pairs are frequently confused."
   ]
  },
  {
   "cell_type": "code",
   "execution_count": null,
   "metadata": {},
   "outputs": [],
   "source": []
  },
  {
   "cell_type": "markdown",
   "metadata": {},
   "source": [
    "### Congratulations!\n",
    "🎉 You are done with the required part! "
   ]
  },
  {
   "cell_type": "markdown",
   "metadata": {},
   "source": [
    "### Optional\n",
    "\n",
    "RNNs have limited expressive capacity that can be surpassed by more complicated variants such as [Gated Recurrent Units](https://en.wikipedia.org/wiki/Gated_recurrent_unit) and [Long Short-Term Memory Units](https://en.wikipedia.org/wiki/Long_short-term_memory); replacing your RNN with those could easily improve the performance.\n",
    "\n",
    "If you found the previous part easy and are already done, you can use other neural architectures to do the same task on the same dataset and compare their performance.  (There will be no support provided for this, or points, but you are welcome to explore this for your own understanding :))\n",
    "\n",
    "Whatever your design choices are, keep the torch documentation close at all times! Do not reinvent the wheel, use existing abstractions whenever possible (but make sure you use them the right way!). Take measures against overfitting: regularize with dropout and/or weight decay and keep track of the validation set performance to stop training early if needed."
   ]
  },
  {
   "cell_type": "code",
   "execution_count": null,
   "metadata": {},
   "outputs": [],
   "source": []
  }
 ],
 "metadata": {
  "kernelspec": {
   "display_name": "Python 3",
   "language": "python",
   "name": "python3"
  },
  "language_info": {
   "codemirror_mode": {
    "name": "ipython",
    "version": 3
   },
   "file_extension": ".py",
   "mimetype": "text/x-python",
   "name": "python",
   "nbconvert_exporter": "python",
   "pygments_lexer": "ipython3",
   "version": "3.8.5"
  }
 },
 "nbformat": 4,
 "nbformat_minor": 2
}
